{
 "cells": [
  {
   "cell_type": "code",
   "execution_count": null,
   "metadata": {},
   "outputs": [],
   "source": [
    "# import standard libraries\n",
    "import os\n",
    "import numpy as np\n",
    "\n",
    "import warnings\n",
    "import pandas as pd\n",
    "\n",
    "from pandas.core.common import SettingWithCopyWarning\n",
    "warnings.simplefilter(action=\"ignore\", category=SettingWithCopyWarning)\n",
    "\n",
    "import datetime\n",
    "import pickle\n",
    "from nltk.corpus import stopwords\n",
    "import re\n",
    "import regex\n",
    "import string\n",
    "from urllib.parse import urlparse"
   ]
  },
  {
   "cell_type": "code",
   "execution_count": null,
   "metadata": {},
   "outputs": [],
   "source": [
    "from ipynb.fs.defs.FFtraining import preproccess"
   ]
  },
  {
   "cell_type": "code",
   "execution_count": null,
   "metadata": {},
   "outputs": [],
   "source": [
    "# import training data\n",
    "with open(\"../data/data_train\", \"rb\") as fb:\n",
    "    training_data = pickle.load(fb)\n",
    "\n",
    "# import validation data\n",
    "with open(\"../data/data_valid\", \"rb\") as fb:\n",
    "    validation_data = pickle.load(fb)\n",
    "\n",
    "# import testing data\n",
    "with open(\"../data/data_test\", \"rb\") as fb:\n",
    "    testing_data = pickle.load(fb)"
   ]
  },
  {
   "cell_type": "code",
   "execution_count": null,
   "metadata": {},
   "outputs": [],
   "source": [
    "# reindex data\n",
    "training_data_indexed = training_data.reset_index(drop=True)\n",
    "validation_data_indexed = validation_data.reset_index(drop=True)\n",
    "testing_data_indexed = testing_data.reset_index(drop=True)"
   ]
  },
  {
   "cell_type": "code",
   "execution_count": null,
   "metadata": {},
   "outputs": [],
   "source": [
    "# apply preproccessing for to be able to create vocab\n",
    "training_titles_processed = training_data_indexed[\"title\"].apply(lambda x: preproccess(x))\n",
    "training_text_processed = training_data_indexed[\"text\"].apply(lambda x: preproccess(x))\n",
    "\n",
    "validation_titles_processed = validation_data_indexed[\"title\"].apply(lambda x: preproccess(x))\n",
    "validation_text_processed = validation_data_indexed[\"text\"].apply(lambda x: preproccess(x))\n",
    "\n",
    "testing_titles_processed = testing_data_indexed[\"title\"].apply(lambda x: preproccess(x))\n",
    "testing_text_processed = testing_data_indexed[\"text\"].apply(lambda x: preproccess(x))"
   ]
  },
  {
   "cell_type": "code",
   "execution_count": null,
   "metadata": {},
   "outputs": [],
   "source": [
    "# get unique words for titles\n",
    "titles_vocab_train = list(dict.fromkeys(training_titles_processed.apply(pd.Series).stack().reset_index(drop = True)))\n",
    "titles_vocab_valid = list(dict.fromkeys(validation_titles_processed.apply(pd.Series).stack().reset_index(drop = True)))\n",
    "titles_vocab_test = list(dict.fromkeys(testing_titles_processed.apply(pd.Series).stack().reset_index(drop = True)))\n",
    "titles_vocab = list(dict.fromkeys(titles_vocab_train + titles_vocab_valid + titles_vocab_test))"
   ]
  },
  {
   "cell_type": "code",
   "execution_count": null,
   "metadata": {},
   "outputs": [],
   "source": [
    "# get unique words for texts\n",
    "text_vocab_train = list(dict.fromkeys(training_text_processed.apply(pd.Series).stack().reset_index(drop = True)))\n",
    "text_vocab_valid = list(dict.fromkeys(validation_text_processed.apply(pd.Series).stack().reset_index(drop = True)))\n",
    "text_vocab_test = list(dict.fromkeys(testing_text_processed.apply(pd.Series).stack().reset_index(drop = True)))\n",
    "text_vocab = list(dict.fromkeys(text_vocab_train + text_vocab_valid +text_vocab_test))\n"
   ]
  },
  {
   "cell_type": "code",
   "execution_count": null,
   "metadata": {},
   "outputs": [],
   "source": [
    "# save created vocabs\n",
    "with open(\"titles_vocab\", \"wb\") as fb:\n",
    "    pickle.dump(titles_vocab, fb)\n",
    "\n",
    "with open(\"text_vocab\", \"wb\") as fb:\n",
    "    pickle.dump(text_vocab, fb)"
   ]
  }
 ],
 "metadata": {
  "kernelspec": {
   "display_name": "Python 3",
   "language": "python",
   "name": "python3"
  },
  "language_info": {
   "name": "python",
   "version": "3.9.6 (tags/v3.9.6:db3ff76, Jun 28 2021, 15:26:21) [MSC v.1929 64 bit (AMD64)]"
  },
  "orig_nbformat": 4,
  "vscode": {
   "interpreter": {
    "hash": "b8cd98ac651c668ce2c6203d75b23f2d5bc0a45f06efaf825f1ea3a340dc3a78"
   }
  }
 },
 "nbformat": 4,
 "nbformat_minor": 2
}
