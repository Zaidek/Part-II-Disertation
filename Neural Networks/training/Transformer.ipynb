{
 "cells": [
  {
   "cell_type": "code",
   "execution_count": 1,
   "metadata": {},
   "outputs": [],
   "source": [
    "# import standard libraries\n",
    "import os\n",
    "import numpy as np\n",
    "import sys\n",
    "\n",
    "import warnings\n",
    "import pandas as pd\n",
    "\n",
    "from pandas.core.common import SettingWithCopyWarning\n",
    "warnings.simplefilter(action=\"ignore\", category=SettingWithCopyWarning)\n",
    "\n",
    "import datetime\n",
    "import pickle\n",
    "from nltk.corpus import stopwords\n",
    "import re\n",
    "import regex\n",
    "import string\n",
    "from urllib.parse import urlparse"
   ]
  },
  {
   "cell_type": "code",
   "execution_count": 2,
   "metadata": {},
   "outputs": [],
   "source": [
    "# import ML libraries\n",
    "import torch\n",
    "from torch import nn\n",
    "from torch.utils.data import DataLoader\n",
    "from torchvision import datasets\n",
    "from torchvision.transforms import ToTensor\n",
    "from torch.utils.data import Dataset\n",
    "from sklearn.metrics import f1_score"
   ]
  },
  {
   "cell_type": "code",
   "execution_count": 3,
   "metadata": {},
   "outputs": [],
   "source": [
    "# import dataset and models used\n",
    "sys.path.insert(0, '//wsl$/Ubuntu/home/zaidek/Part-II-Disertation/Neural Networks')\n",
    "from ipynb.fs.defs.datasets import BertProcessedTitleEmbeddingDataset, BertProcessedTitleEmbeddingDataset2, BertProcessedTitleEmbeddingDataset2_reg\n",
    "from ipynb.fs.defs.models import DecoderTransformer\n",
    "from ipynb.fs.defs.FFtraining import train_model_bert, train_model_bert_reg\n",
    "from ipynb.fs.defs.FFtraining import define_sampler"
   ]
  },
  {
   "cell_type": "code",
   "execution_count": 4,
   "metadata": {},
   "outputs": [],
   "source": [
    "# import training data\n",
    "with open(\"../../data/data_train\", \"rb\") as fb:\n",
    "    training_data = pickle.load(fb)\n",
    "\n",
    "# import validation data\n",
    "with open(\"../../data/data_valid\", \"rb\") as fb:\n",
    "    validation_data = pickle.load(fb)"
   ]
  },
  {
   "cell_type": "code",
   "execution_count": 5,
   "metadata": {},
   "outputs": [
    {
     "name": "stdout",
     "output_type": "stream",
     "text": [
      "cuda\n"
     ]
    }
   ],
   "source": [
    "# try set gpu as training device\n",
    "device = torch.device(\"cuda\" if torch.cuda.is_available() else \"cpu\")\n",
    "print(device)"
   ]
  },
  {
   "cell_type": "code",
   "execution_count": 6,
   "metadata": {},
   "outputs": [],
   "source": [
    "# reindex data\n",
    "train_data_indexed = training_data.reset_index(drop=True)\n",
    "valid_data_indexed = validation_data.reset_index(drop=True)"
   ]
  },
  {
   "cell_type": "code",
   "execution_count": 7,
   "metadata": {},
   "outputs": [],
   "source": [
    "# define cols which are used in model\n",
    "req_cols_without_url = [\"title\", \"text\", \"time\", \"url\"]"
   ]
  },
  {
   "cell_type": "code",
   "execution_count": 8,
   "metadata": {},
   "outputs": [],
   "source": [
    "# extract specific cols needed\n",
    "scores = train_data_indexed.score.fillna(0)\n",
    "training_data_indexed = train_data_indexed[req_cols_without_url]\n",
    "\n",
    "validation_scores = valid_data_indexed.score.fillna(0)\n",
    "validation_data_indexed = valid_data_indexed[req_cols_without_url]"
   ]
  },
  {
   "cell_type": "code",
   "execution_count": 9,
   "metadata": {},
   "outputs": [],
   "source": [
    "# fill nan values in normal data\n",
    "training_data_indexed.title = training_data_indexed.title.fillna(\"\")\n",
    "training_data_indexed.text = training_data_indexed.text.fillna(\"\")\n",
    "training_data_indexed.url = training_data_indexed.url.fillna(\"\")\n",
    "training_data_indexed.time = training_data_indexed.time.fillna(0)\n",
    "\n",
    "validation_data_indexed.title = validation_data_indexed.title.fillna(\"\")\n",
    "validation_data_indexed.text = validation_data_indexed.text.fillna(\"\")\n",
    "validation_data_indexed.url = validation_data_indexed.url.fillna(\"\")\n",
    "validation_data_indexed.time = validation_data_indexed.time.fillna(0)"
   ]
  },
  {
   "cell_type": "code",
   "execution_count": 10,
   "metadata": {},
   "outputs": [],
   "source": [
    "# define loader parameters\n",
    "cutoff = 2\n",
    "batch_size = 128\n",
    "num_epochs = 10\n",
    "\n",
    "train_sampler = define_sampler(scores, cutoff)\n",
    "valid_sampler = define_sampler(validation_scores, cutoff)"
   ]
  },
  {
   "cell_type": "code",
   "execution_count": 11,
   "metadata": {},
   "outputs": [],
   "source": [
    "# create bert embedding datasets\n",
    "dataset_train = BertProcessedTitleEmbeddingDataset(training_data_indexed, scores, cutoff)\n",
    "dataset_valid = BertProcessedTitleEmbeddingDataset(validation_data_indexed, validation_scores, cutoff)"
   ]
  },
  {
   "cell_type": "code",
   "execution_count": 12,
   "metadata": {},
   "outputs": [],
   "source": [
    "# define batched bert embedding loaders\n",
    "use_sampler = False\n",
    "train_loader, valid_loader = None, None\n",
    "train_loader_2, valid_loader_2 = None, None\n",
    "if use_sampler:\n",
    "    train_loader = torch.utils.data.DataLoader(dataset=dataset_train, batch_size=batch_size, sampler=train_sampler)\n",
    "    valid_loader = torch.utils.data.DataLoader(dataset=dataset_valid, batch_size=batch_size, sampler=valid_sampler)\n",
    "else:\n",
    "    train_loader = torch.utils.data.DataLoader(dataset=dataset_train, batch_size=batch_size, shuffle=True)\n",
    "    valid_loader = torch.utils.data.DataLoader(dataset=dataset_valid, batch_size=batch_size, shuffle=True)\n"
   ]
  },
  {
   "cell_type": "code",
   "execution_count": 13,
   "metadata": {},
   "outputs": [],
   "source": [
    "with open(\"../data/embeddings/bert_train_embeddings\", \"rb\") as fb:\n",
    "    train_embed = pickle.load(fb)\n",
    "\n",
    "with open(\"../data/embeddings/bert_valid_embeddings\", \"rb\") as fb:\n",
    "    valid_embed = pickle.load(fb)"
   ]
  },
  {
   "cell_type": "code",
   "execution_count": 14,
   "metadata": {},
   "outputs": [],
   "source": [
    "dataset_train2 = BertProcessedTitleEmbeddingDataset2_reg(training_data_indexed, scores, cutoff, train_embed)\n",
    "dataset_valid2 = BertProcessedTitleEmbeddingDataset2_reg(validation_data_indexed, validation_scores, cutoff, valid_embed)\n",
    "train_loader2 = torch.utils.data.DataLoader(dataset=dataset_train2, batch_size=batch_size, shuffle=True)\n",
    "valid_loader2 = torch.utils.data.DataLoader(dataset=dataset_valid2, batch_size=batch_size, shuffle=True)"
   ]
  },
  {
   "cell_type": "code",
   "execution_count": 18,
   "metadata": {},
   "outputs": [],
   "source": [
    "# define dimensions of RNN model\n",
    "embedding_dim = 768\n",
    "output_dim = 1\n",
    "num_heads = 32\n",
    "num_layers = 64\n",
    "\n",
    "# instantiate bert model\n",
    "model = DecoderTransformer(embedding_dim, output_dim, num_heads, num_layers)"
   ]
  },
  {
   "cell_type": "code",
   "execution_count": 19,
   "metadata": {},
   "outputs": [],
   "source": [
    "# define loss function\n",
    "loss_func1 = nn.MSELoss()\n",
    "\n",
    "# define paramters for optimizers\n",
    "learning_rate = 0.01\n",
    "\n",
    "# define basic optimizer class\n",
    "optimizer = torch.optim.Adam(model.parameters(), lr = learning_rate)"
   ]
  },
  {
   "cell_type": "code",
   "execution_count": 20,
   "metadata": {},
   "outputs": [
    {
     "data": {
      "application/vnd.jupyter.widget-view+json": {
       "model_id": "2c5f75651cc247a193a3b36c7f1bb995",
       "version_major": 2,
       "version_minor": 0
      },
      "text/plain": [
       "  0%|          | 0/3831 [00:00<?, ?it/s]"
      ]
     },
     "metadata": {},
     "output_type": "display_data"
    },
    {
     "name": "stdout",
     "output_type": "stream",
     "text": [
      "Epoch 0 Iteration 100. Current Loss 103573.55388305664\n",
      "Epoch 0 Iteration 200. Current Loss 1877.2783251953124\n",
      "Epoch 0 Iteration 300. Current Loss 1918.9999201202393\n",
      "Epoch 0 Iteration 400. Current Loss 2244.76918674469\n",
      "Epoch 0 Iteration 500. Current Loss 2519.0420249176027\n",
      "Epoch 0 Iteration 600. Current Loss 1549.9229001617432\n",
      "Epoch 0 Iteration 700. Current Loss 1697.536490020752\n",
      "Epoch 0 Iteration 800. Current Loss 1548.0922674560547\n",
      "Epoch 0 Iteration 900. Current Loss 1648.2868260192872\n",
      "Epoch 0 Iteration 1000. Current Loss 2670.9844153594972\n",
      "Epoch 0 Iteration 1100. Current Loss 1766.6497334957123\n",
      "Epoch 0 Iteration 1200. Current Loss 2546.9122151184083\n",
      "Epoch 0 Iteration 1300. Current Loss 1984.979910736084\n",
      "Epoch 0 Iteration 1400. Current Loss 1797.704284210205\n",
      "Epoch 0 Iteration 1500. Current Loss 1996.5664988899232\n",
      "Epoch 0 Iteration 1600. Current Loss 1659.235429725647\n",
      "Epoch 0 Iteration 1700. Current Loss 1585.9060993957519\n",
      "Epoch 0 Iteration 1800. Current Loss 1913.2326282501222\n",
      "Epoch 0 Iteration 1900. Current Loss 1815.8700627136232\n",
      "Epoch 0 Iteration 2000. Current Loss 2226.3587084960936\n",
      "Epoch 0 Iteration 2100. Current Loss 1891.061524810791\n",
      "Epoch 0 Iteration 2200. Current Loss 2041.1583964538574\n",
      "Epoch 0 Iteration 2300. Current Loss 1911.0459700393676\n",
      "Epoch 0 Iteration 2400. Current Loss 1991.8680317687988\n",
      "Epoch 0 Iteration 2500. Current Loss 3128.583178329468\n",
      "Epoch 0 Iteration 2600. Current Loss 1736.65525100708\n",
      "Epoch 0 Iteration 2700. Current Loss 1735.9940146255494\n",
      "Epoch 0 Iteration 2800. Current Loss 1748.1683043289186\n",
      "Epoch 0 Iteration 2900. Current Loss 1605.241450805664\n",
      "Epoch 0 Iteration 3000. Current Loss 2811.382174682617\n",
      "Epoch 0 Iteration 3100. Current Loss 1513.443177947998\n",
      "Epoch 0 Iteration 3200. Current Loss 2290.0193532562257\n",
      "Epoch 0 Iteration 3300. Current Loss 1889.2147382354735\n",
      "Epoch 0 Iteration 3400. Current Loss 2264.3202630615233\n",
      "Epoch 0 Iteration 3500. Current Loss 2078.2990574645996\n",
      "Epoch 0 Iteration 3600. Current Loss 1690.2289832305908\n",
      "Epoch 0 Iteration 3700. Current Loss 1820.9421672058106\n",
      "Epoch 0 Iteration 3800. Current Loss 1634.3031495666503\n",
      "vloss - 1052451.3739814758\n"
     ]
    },
    {
     "data": {
      "application/vnd.jupyter.widget-view+json": {
       "model_id": "8bbd5cac5f01415bbaf6956045f1e58c",
       "version_major": 2,
       "version_minor": 0
      },
      "text/plain": [
       "  0%|          | 0/3831 [00:00<?, ?it/s]"
      ]
     },
     "metadata": {},
     "output_type": "display_data"
    },
    {
     "name": "stdout",
     "output_type": "stream",
     "text": [
      "Epoch 1 Iteration 100. Current Loss 2930.1646717834474\n",
      "Epoch 1 Iteration 200. Current Loss 2245.931590576172\n",
      "Epoch 1 Iteration 300. Current Loss 1689.203221130371\n",
      "Epoch 1 Iteration 400. Current Loss 1632.6535629272462\n",
      "Epoch 1 Iteration 500. Current Loss 1769.0015618896484\n",
      "Epoch 1 Iteration 600. Current Loss 1694.148997039795\n",
      "Epoch 1 Iteration 700. Current Loss 2197.4529917907716\n",
      "Epoch 1 Iteration 800. Current Loss 1614.9022577667236\n",
      "Epoch 1 Iteration 900. Current Loss 2042.320186920166\n",
      "Epoch 1 Iteration 1000. Current Loss 1809.8966709899903\n",
      "Epoch 1 Iteration 1100. Current Loss 2366.632477416992\n",
      "Epoch 1 Iteration 1200. Current Loss 1608.729524230957\n",
      "Epoch 1 Iteration 1300. Current Loss 1974.9254376220704\n",
      "Epoch 1 Iteration 1400. Current Loss 1777.857006072998\n",
      "Epoch 1 Iteration 1500. Current Loss 2080.9784188079834\n",
      "Epoch 1 Iteration 1600. Current Loss 1814.9807354736329\n",
      "Epoch 1 Iteration 1700. Current Loss 1901.5679830932618\n",
      "Epoch 1 Iteration 1800. Current Loss 1770.7316779327393\n",
      "Epoch 1 Iteration 1900. Current Loss 1605.8196468353271\n",
      "Epoch 1 Iteration 2000. Current Loss 1836.9932637023926\n",
      "Epoch 1 Iteration 2100. Current Loss 1838.895241394043\n",
      "Epoch 1 Iteration 2200. Current Loss 1762.3751754760742\n",
      "Epoch 1 Iteration 2300. Current Loss 2864.7301834869386\n",
      "Epoch 1 Iteration 2400. Current Loss 3247.820994873047\n",
      "Epoch 1 Iteration 2500. Current Loss 1867.8654594421387\n",
      "Epoch 1 Iteration 2600. Current Loss 1616.7533618164061\n",
      "Epoch 1 Iteration 2700. Current Loss 1819.6990351867676\n",
      "Epoch 1 Iteration 2800. Current Loss 1376.693331680298\n",
      "Epoch 1 Iteration 2900. Current Loss 1559.7463216400147\n",
      "Epoch 1 Iteration 3000. Current Loss 1611.5254467773439\n",
      "Epoch 1 Iteration 3100. Current Loss 2145.4008193969726\n",
      "Epoch 1 Iteration 3200. Current Loss 1719.5142147827148\n",
      "Epoch 1 Iteration 3300. Current Loss 2086.89589553833\n",
      "Epoch 1 Iteration 3400. Current Loss 1777.0429374694825\n",
      "Epoch 1 Iteration 3500. Current Loss 1610.3754943847657\n",
      "Epoch 1 Iteration 3600. Current Loss 2241.5981877136232\n",
      "Epoch 1 Iteration 3700. Current Loss 1811.348267364502\n",
      "Epoch 1 Iteration 3800. Current Loss 1491.1651141357422\n",
      "vloss - 1044893.8865737915\n"
     ]
    },
    {
     "data": {
      "application/vnd.jupyter.widget-view+json": {
       "model_id": "c192372f5eb64e229a0ac5c06b7b399c",
       "version_major": 2,
       "version_minor": 0
      },
      "text/plain": [
       "  0%|          | 0/3831 [00:00<?, ?it/s]"
      ]
     },
     "metadata": {},
     "output_type": "display_data"
    },
    {
     "name": "stdout",
     "output_type": "stream",
     "text": [
      "Epoch 2 Iteration 100. Current Loss 1901.8561046600341\n",
      "Epoch 2 Iteration 200. Current Loss 2230.2563989257815\n",
      "Epoch 2 Iteration 300. Current Loss 66866595074.70795\n",
      "Epoch 2 Iteration 400. Current Loss 123835630.52313347\n",
      "Epoch 2 Iteration 500. Current Loss 2432.776856536865\n",
      "Epoch 2 Iteration 600. Current Loss 1736.779519882202\n",
      "Epoch 2 Iteration 700. Current Loss 1259.1922903442382\n",
      "Epoch 2 Iteration 800. Current Loss 1553.5589575195313\n",
      "Epoch 2 Iteration 900. Current Loss 1707.8379899597169\n",
      "Epoch 2 Iteration 1000. Current Loss 1879.4169651794434\n",
      "Epoch 2 Iteration 1100. Current Loss 1507.6143553161621\n",
      "Epoch 2 Iteration 1200. Current Loss 1381.2274520874023\n",
      "Epoch 2 Iteration 1300. Current Loss 2136.9699224853516\n",
      "Epoch 2 Iteration 1400. Current Loss 1740.3048405456543\n",
      "Epoch 2 Iteration 1500. Current Loss 2864.837562255859\n",
      "Epoch 2 Iteration 1600. Current Loss 1795.9465102386475\n",
      "Epoch 2 Iteration 1700. Current Loss 2116.3399160766603\n",
      "Epoch 2 Iteration 1800. Current Loss 1938.0806842041015\n",
      "Epoch 2 Iteration 1900. Current Loss 2107.782634124756\n",
      "Epoch 2 Iteration 2000. Current Loss 1783.1779026794434\n",
      "Epoch 2 Iteration 2100. Current Loss 2284.6804719543456\n",
      "Epoch 2 Iteration 2200. Current Loss 3359.4130096435547\n",
      "Epoch 2 Iteration 2300. Current Loss 2163.257484588623\n",
      "Epoch 2 Iteration 2400. Current Loss 1674.570916442871\n",
      "Epoch 2 Iteration 2500. Current Loss 1623.4373970031738\n",
      "Epoch 2 Iteration 2600. Current Loss 1814.735\n",
      "Epoch 2 Iteration 2700. Current Loss 1904.2892602539061\n",
      "Epoch 2 Iteration 2800. Current Loss 1805.1543529510498\n",
      "Epoch 2 Iteration 2900. Current Loss 1503.7701290893556\n",
      "Epoch 2 Iteration 3000. Current Loss 1370.1139396667481\n",
      "Epoch 2 Iteration 3100. Current Loss 1867.1440426635743\n",
      "Epoch 2 Iteration 3200. Current Loss 2023.052559967041\n",
      "Epoch 2 Iteration 3300. Current Loss 2157.7288641357422\n",
      "Epoch 2 Iteration 3400. Current Loss 2336.6070909118653\n",
      "Epoch 2 Iteration 3500. Current Loss 2233.4274279022216\n",
      "Epoch 2 Iteration 3600. Current Loss 1957.1828294372558\n",
      "Epoch 2 Iteration 3700. Current Loss 1639.522030029297\n",
      "Epoch 2 Iteration 3800. Current Loss 1527.2647257995604\n",
      "vloss - 1045170.2364807129\n"
     ]
    },
    {
     "data": {
      "application/vnd.jupyter.widget-view+json": {
       "model_id": "336b5356caea4e2a806156d6ec2d8609",
       "version_major": 2,
       "version_minor": 0
      },
      "text/plain": [
       "  0%|          | 0/3831 [00:00<?, ?it/s]"
      ]
     },
     "metadata": {},
     "output_type": "display_data"
    },
    {
     "name": "stdout",
     "output_type": "stream",
     "text": [
      "Epoch 3 Iteration 100. Current Loss 1703.7881631469727\n",
      "Epoch 3 Iteration 200. Current Loss 1936.6833955383302\n",
      "Epoch 3 Iteration 300. Current Loss 1643.4220068359375\n",
      "Epoch 3 Iteration 400. Current Loss 1629.3242471313476\n",
      "Epoch 3 Iteration 500. Current Loss 2561.2080168151856\n",
      "Epoch 3 Iteration 600. Current Loss 1657.9714855194093\n",
      "Epoch 3 Iteration 700. Current Loss 1622.9184841918945\n",
      "Epoch 3 Iteration 800. Current Loss 2203.1206355285644\n",
      "Epoch 3 Iteration 900. Current Loss 1945.8044847106933\n",
      "Epoch 3 Iteration 1000. Current Loss 2072.052545928955\n",
      "Epoch 3 Iteration 1100. Current Loss 2012.7938282775879\n",
      "Epoch 3 Iteration 1200. Current Loss 1930.7905001831055\n",
      "Epoch 3 Iteration 1300. Current Loss 2368.0141883850097\n",
      "Epoch 3 Iteration 1400. Current Loss 2632.8247146606445\n",
      "Epoch 3 Iteration 1500. Current Loss 1487.759104309082\n",
      "Epoch 3 Iteration 1600. Current Loss 1880.0157418060303\n",
      "Epoch 3 Iteration 1700. Current Loss 2563.6964851379394\n",
      "Epoch 3 Iteration 1800. Current Loss 1664.7711729431153\n",
      "Epoch 3 Iteration 1900. Current Loss 2388.052888183594\n",
      "Epoch 3 Iteration 2000. Current Loss 1777.2270469665527\n",
      "Epoch 3 Iteration 2100. Current Loss 1307.8585771179198\n",
      "Epoch 3 Iteration 2200. Current Loss 1510.3787455749512\n",
      "Epoch 3 Iteration 2300. Current Loss 1484.0988082885742\n",
      "Epoch 3 Iteration 2400. Current Loss 1579.146305770874\n",
      "Epoch 3 Iteration 2500. Current Loss 1899.9735356140136\n",
      "Epoch 3 Iteration 2600. Current Loss 1571.7392616271973\n",
      "Epoch 3 Iteration 2700. Current Loss 3213.2152338409423\n",
      "Epoch 3 Iteration 2800. Current Loss 2271.4731467437746\n",
      "Epoch 3 Iteration 2900. Current Loss 1689.2577883911133\n",
      "Epoch 3 Iteration 3000. Current Loss 2212.223921661377\n",
      "Epoch 3 Iteration 3100. Current Loss 1840.0227714538573\n",
      "Epoch 3 Iteration 3200. Current Loss 2030.2331860351562\n",
      "Epoch 3 Iteration 3300. Current Loss 1836.121065826416\n",
      "Epoch 3 Iteration 3400. Current Loss 1740.4701000213622\n",
      "Epoch 3 Iteration 3500. Current Loss 1650.3560319519042\n",
      "Epoch 3 Iteration 3600. Current Loss 1553.4087321472168\n",
      "Epoch 3 Iteration 3700. Current Loss 1564.1516818237305\n",
      "Epoch 3 Iteration 3800. Current Loss 2043.4520721435547\n",
      "vloss - 1044939.8267288208\n"
     ]
    },
    {
     "data": {
      "application/vnd.jupyter.widget-view+json": {
       "model_id": "e117d1ffc9bd4d87870abc0c5bc63b3e",
       "version_major": 2,
       "version_minor": 0
      },
      "text/plain": [
       "  0%|          | 0/3831 [00:00<?, ?it/s]"
      ]
     },
     "metadata": {},
     "output_type": "display_data"
    },
    {
     "name": "stdout",
     "output_type": "stream",
     "text": [
      "Epoch 4 Iteration 100. Current Loss 1812.7016822052\n",
      "Epoch 4 Iteration 200. Current Loss 1764.0617043304444\n",
      "Epoch 4 Iteration 300. Current Loss 1362.4637509155273\n",
      "Epoch 4 Iteration 400. Current Loss 1526.0166744995117\n",
      "Epoch 4 Iteration 500. Current Loss 1751.052608947754\n",
      "Epoch 4 Iteration 600. Current Loss 1806.4171142578125\n",
      "Epoch 4 Iteration 700. Current Loss 2161.7858015441893\n",
      "Epoch 4 Iteration 800. Current Loss 2355.667545928955\n",
      "Epoch 4 Iteration 900. Current Loss 1709.2313975524903\n",
      "Epoch 4 Iteration 1000. Current Loss 2046.9478967285156\n",
      "Epoch 4 Iteration 1100. Current Loss 1597.1304039001466\n",
      "Epoch 4 Iteration 1200. Current Loss 2005.7264631652831\n",
      "Epoch 4 Iteration 1300. Current Loss 2629.7787330627443\n",
      "Epoch 4 Iteration 1400. Current Loss 1931.8144386291503\n",
      "Epoch 4 Iteration 1500. Current Loss 1567.0761935424805\n",
      "Epoch 4 Iteration 1600. Current Loss 2066.6089669799803\n",
      "Epoch 4 Iteration 1700. Current Loss 2045.1845978546144\n",
      "Epoch 4 Iteration 1800. Current Loss 1732.0966780090332\n",
      "Epoch 4 Iteration 1900. Current Loss 1914.0328730773927\n",
      "Epoch 4 Iteration 2000. Current Loss 1629.9758467102051\n",
      "Epoch 4 Iteration 2100. Current Loss 1428.9934820556641\n",
      "Epoch 4 Iteration 2200. Current Loss 1911.7396839904786\n",
      "Epoch 4 Iteration 2300. Current Loss 1778.2454627990724\n",
      "Epoch 4 Iteration 2400. Current Loss 1520.4460788726806\n",
      "Epoch 4 Iteration 2500. Current Loss 1985.5693490600586\n",
      "Epoch 4 Iteration 2600. Current Loss 2938.694781951904\n",
      "Epoch 4 Iteration 2700. Current Loss 2223.45853553772\n",
      "Epoch 4 Iteration 2800. Current Loss 1576.2398832702636\n",
      "Epoch 4 Iteration 2900. Current Loss 1612.2348738098144\n",
      "Epoch 4 Iteration 3000. Current Loss 2322.769112701416\n",
      "Epoch 4 Iteration 3100. Current Loss 1857.3788409423828\n",
      "Epoch 4 Iteration 3200. Current Loss 1961.9109413146973\n",
      "Epoch 4 Iteration 3300. Current Loss 2604.4694177246092\n",
      "Epoch 4 Iteration 3400. Current Loss 1986.594517211914\n",
      "Epoch 4 Iteration 3500. Current Loss 1835.1819860839844\n",
      "Epoch 4 Iteration 3600. Current Loss 1799.457056121826\n",
      "Epoch 4 Iteration 3700. Current Loss 1953.6003112792969\n",
      "Epoch 4 Iteration 3800. Current Loss 1789.4082514190675\n",
      "vloss - 1045332.6548614502\n"
     ]
    },
    {
     "data": {
      "application/vnd.jupyter.widget-view+json": {
       "model_id": "9eb5179c331c47ac8aa864dc34b8abd0",
       "version_major": 2,
       "version_minor": 0
      },
      "text/plain": [
       "  0%|          | 0/3831 [00:00<?, ?it/s]"
      ]
     },
     "metadata": {},
     "output_type": "display_data"
    },
    {
     "name": "stdout",
     "output_type": "stream",
     "text": [
      "Epoch 5 Iteration 100. Current Loss 1921.0307737731935\n",
      "Epoch 5 Iteration 200. Current Loss 1885.4685522460939\n",
      "Epoch 5 Iteration 300. Current Loss 1634.4609255981445\n",
      "Epoch 5 Iteration 400. Current Loss 1965.6646715545655\n",
      "Epoch 5 Iteration 500. Current Loss 1932.7210165405274\n",
      "Epoch 5 Iteration 600. Current Loss 2120.126061401367\n",
      "Epoch 5 Iteration 700. Current Loss 1814.7299739074706\n",
      "Epoch 5 Iteration 800. Current Loss 2498.7688246154785\n",
      "Epoch 5 Iteration 900. Current Loss 1701.6039819335938\n",
      "Epoch 5 Iteration 1000. Current Loss 1964.7115675354005\n",
      "Epoch 5 Iteration 1100. Current Loss 1917.7548678588867\n",
      "Epoch 5 Iteration 1200. Current Loss 1782.4431748199463\n",
      "Epoch 5 Iteration 1300. Current Loss 1925.1645681762695\n",
      "Epoch 5 Iteration 1400. Current Loss 1774.2341038513184\n",
      "Epoch 5 Iteration 1500. Current Loss 1567.4532152557374\n",
      "Epoch 5 Iteration 1600. Current Loss 2249.694656829834\n",
      "Epoch 5 Iteration 1700. Current Loss 1935.9840090942382\n",
      "Epoch 5 Iteration 1800. Current Loss 1510.0232847595214\n",
      "Epoch 5 Iteration 1900. Current Loss 2056.11661529541\n",
      "Epoch 5 Iteration 2000. Current Loss 1859.708959350586\n",
      "Epoch 5 Iteration 2100. Current Loss 1593.0277541351318\n",
      "Epoch 5 Iteration 2200. Current Loss 1869.8076959228515\n",
      "Epoch 5 Iteration 2300. Current Loss 2395.204587402344\n",
      "Epoch 5 Iteration 2400. Current Loss 1713.215270690918\n",
      "Epoch 5 Iteration 2500. Current Loss 2061.1122164154053\n",
      "Epoch 5 Iteration 2600. Current Loss 1854.8502198791505\n",
      "Epoch 5 Iteration 2700. Current Loss 1606.5703108215332\n",
      "Epoch 5 Iteration 2800. Current Loss 1639.6575192260743\n",
      "Epoch 5 Iteration 2900. Current Loss 1468.3065985870362\n",
      "Epoch 5 Iteration 3000. Current Loss 1751.9760552978516\n",
      "Epoch 5 Iteration 3100. Current Loss 3222.7948960876465\n",
      "Epoch 5 Iteration 3200. Current Loss 1736.0573956298829\n",
      "Epoch 5 Iteration 3300. Current Loss 1853.5654663085938\n",
      "Epoch 5 Iteration 3400. Current Loss 1804.6298403930664\n",
      "Epoch 5 Iteration 3500. Current Loss 1860.0272430419923\n",
      "Epoch 5 Iteration 3600. Current Loss 1833.2306784057616\n",
      "Epoch 5 Iteration 3700. Current Loss 2608.7402793884276\n",
      "Epoch 5 Iteration 3800. Current Loss 2001.277790222168\n",
      "vloss - 1044991.3699951172\n"
     ]
    },
    {
     "data": {
      "application/vnd.jupyter.widget-view+json": {
       "model_id": "5aafd6510ffc4012900f1c0c7053cffe",
       "version_major": 2,
       "version_minor": 0
      },
      "text/plain": [
       "  0%|          | 0/3831 [00:00<?, ?it/s]"
      ]
     },
     "metadata": {},
     "output_type": "display_data"
    },
    {
     "name": "stdout",
     "output_type": "stream",
     "text": [
      "Epoch 6 Iteration 100. Current Loss 1174.4696801757811\n",
      "Epoch 6 Iteration 200. Current Loss 1598.4098725128174\n",
      "Epoch 6 Iteration 300. Current Loss 1685.417801513672\n",
      "Epoch 6 Iteration 400. Current Loss 2379.475118560791\n",
      "Epoch 6 Iteration 500. Current Loss 1885.2468921661377\n",
      "Epoch 6 Iteration 600. Current Loss 1812.48424118042\n",
      "Epoch 6 Iteration 700. Current Loss 1303.7437992858886\n",
      "Epoch 6 Iteration 800. Current Loss 2116.92976852417\n",
      "Epoch 6 Iteration 900. Current Loss 1501.8496436309815\n",
      "Epoch 6 Iteration 1000. Current Loss 2055.226533050537\n",
      "Epoch 6 Iteration 1100. Current Loss 1438.2738018798827\n",
      "Epoch 6 Iteration 1200. Current Loss 1817.9561529541015\n",
      "Epoch 6 Iteration 1300. Current Loss 2411.236504745483\n",
      "Epoch 6 Iteration 1400. Current Loss 2078.1367500305178\n",
      "Epoch 6 Iteration 1500. Current Loss 2228.1750202178955\n",
      "Epoch 6 Iteration 1600. Current Loss 1782.8249324798585\n",
      "Epoch 6 Iteration 1700. Current Loss 1976.9664915466308\n",
      "Epoch 6 Iteration 1800. Current Loss 1580.4935113525391\n",
      "Epoch 6 Iteration 1900. Current Loss 1866.4563471221925\n",
      "Epoch 6 Iteration 2000. Current Loss 1317.4798329162597\n",
      "Epoch 6 Iteration 2100. Current Loss 3430.2790771484374\n",
      "Epoch 6 Iteration 2200. Current Loss 2285.05055770874\n",
      "Epoch 6 Iteration 2300. Current Loss 1766.816530609131\n",
      "Epoch 6 Iteration 2400. Current Loss 2334.462459869385\n",
      "Epoch 6 Iteration 2500. Current Loss 1968.7023236846924\n",
      "Epoch 6 Iteration 2600. Current Loss 1705.3915327453612\n",
      "Epoch 6 Iteration 2700. Current Loss 2008.1596238708496\n",
      "Epoch 6 Iteration 2800. Current Loss 2146.0723483276365\n",
      "Epoch 6 Iteration 2900. Current Loss 1738.0586724853515\n",
      "Epoch 6 Iteration 3000. Current Loss 1386.8037182617188\n",
      "Epoch 6 Iteration 3100. Current Loss 1958.0616506958008\n",
      "Epoch 6 Iteration 3200. Current Loss 1839.8126202392577\n",
      "Epoch 6 Iteration 3300. Current Loss 1759.1698848724366\n",
      "Epoch 6 Iteration 3400. Current Loss 1828.9917720031738\n",
      "Epoch 6 Iteration 3500. Current Loss 3056.0010819244385\n",
      "Epoch 6 Iteration 3600. Current Loss 2054.872399291992\n",
      "Epoch 6 Iteration 3700. Current Loss 2142.3493212890626\n",
      "Epoch 6 Iteration 3800. Current Loss 1379.930640258789\n",
      "vloss - 1045329.5402908325\n"
     ]
    },
    {
     "data": {
      "application/vnd.jupyter.widget-view+json": {
       "model_id": "64d3651010694887888f4c80aa86fa8d",
       "version_major": 2,
       "version_minor": 0
      },
      "text/plain": [
       "  0%|          | 0/3831 [00:00<?, ?it/s]"
      ]
     },
     "metadata": {},
     "output_type": "display_data"
    },
    {
     "name": "stdout",
     "output_type": "stream",
     "text": [
      "Epoch 7 Iteration 100. Current Loss 1636.759187927246\n",
      "Epoch 7 Iteration 200. Current Loss 1612.8177693939208\n",
      "Epoch 7 Iteration 300. Current Loss 1767.687681274414\n",
      "Epoch 7 Iteration 400. Current Loss 2218.636951599121\n",
      "Epoch 7 Iteration 500. Current Loss 1898.9251077270508\n",
      "Epoch 7 Iteration 600. Current Loss 1958.3927219390869\n",
      "Epoch 7 Iteration 700. Current Loss 2398.0738356018064\n",
      "Epoch 7 Iteration 800. Current Loss 2154.3636840057375\n",
      "Epoch 7 Iteration 900. Current Loss 1751.1670320129394\n",
      "Epoch 7 Iteration 1000. Current Loss 2074.4287130737303\n",
      "Epoch 7 Iteration 1100. Current Loss 1735.6760382080079\n",
      "Epoch 7 Iteration 1200. Current Loss 1741.8933346557617\n",
      "Epoch 7 Iteration 1300. Current Loss 1813.1460809326172\n",
      "Epoch 7 Iteration 1400. Current Loss 1693.171841430664\n",
      "Epoch 7 Iteration 1500. Current Loss 1869.0931117248535\n",
      "Epoch 7 Iteration 1600. Current Loss 1455.5365823364257\n",
      "Epoch 7 Iteration 1700. Current Loss 2058.6626184082033\n",
      "Epoch 7 Iteration 1800. Current Loss 2907.379596862793\n",
      "Epoch 7 Iteration 1900. Current Loss 2247.443681793213\n",
      "Epoch 7 Iteration 2000. Current Loss 1740.220271911621\n",
      "Epoch 7 Iteration 2100. Current Loss 1626.687585144043\n",
      "Epoch 7 Iteration 2200. Current Loss 1666.7671138000487\n",
      "Epoch 7 Iteration 2300. Current Loss 2011.5932583618164\n",
      "Epoch 7 Iteration 2400. Current Loss 2008.1613227844239\n",
      "Epoch 7 Iteration 2500. Current Loss 2509.049812927246\n",
      "Epoch 7 Iteration 2600. Current Loss 1489.3373782348633\n",
      "Epoch 7 Iteration 2700. Current Loss 2187.6164784240723\n",
      "Epoch 7 Iteration 2800. Current Loss 1931.0943997192383\n",
      "Epoch 7 Iteration 2900. Current Loss 2203.032106781006\n",
      "Epoch 7 Iteration 3000. Current Loss 1884.0528574371338\n",
      "Epoch 7 Iteration 3100. Current Loss 1922.51193069458\n",
      "Epoch 7 Iteration 3200. Current Loss 1934.0692448425293\n",
      "Epoch 7 Iteration 3300. Current Loss 1722.9346333312988\n",
      "Epoch 7 Iteration 3400. Current Loss 1576.4644007110596\n",
      "Epoch 7 Iteration 3500. Current Loss 1737.4905291748046\n",
      "Epoch 7 Iteration 3600. Current Loss 2176.333896484375\n",
      "Epoch 7 Iteration 3700. Current Loss 1599.5627757263183\n",
      "Epoch 7 Iteration 3800. Current Loss 2048.398613128662\n",
      "vloss - 1044916.8163986206\n"
     ]
    },
    {
     "data": {
      "application/vnd.jupyter.widget-view+json": {
       "model_id": "7dccbe99f5f7409eb51b78791f81ad34",
       "version_major": 2,
       "version_minor": 0
      },
      "text/plain": [
       "  0%|          | 0/3831 [00:00<?, ?it/s]"
      ]
     },
     "metadata": {},
     "output_type": "display_data"
    },
    {
     "name": "stdout",
     "output_type": "stream",
     "text": [
      "Epoch 8 Iteration 100. Current Loss 2155.1449098205567\n",
      "Epoch 8 Iteration 200. Current Loss 2209.8414389038085\n",
      "Epoch 8 Iteration 300. Current Loss 1865.2110083007813\n",
      "Epoch 8 Iteration 400. Current Loss 1597.6222231292725\n",
      "Epoch 8 Iteration 500. Current Loss 1726.3500709533691\n",
      "Epoch 8 Iteration 600. Current Loss 1890.663244781494\n",
      "Epoch 8 Iteration 700. Current Loss 2599.9526986694336\n",
      "Epoch 8 Iteration 800. Current Loss 1397.2021292114257\n",
      "Epoch 8 Iteration 900. Current Loss 1726.3768812561036\n",
      "Epoch 8 Iteration 1000. Current Loss 1602.4065759277344\n",
      "Epoch 8 Iteration 1100. Current Loss 1856.863456954956\n",
      "Epoch 8 Iteration 1200. Current Loss 1428.7755503082276\n",
      "Epoch 8 Iteration 1300. Current Loss 1724.9766982269286\n",
      "Epoch 8 Iteration 1400. Current Loss 1786.4548209381103\n",
      "Epoch 8 Iteration 1500. Current Loss 1716.5426489257814\n",
      "Epoch 8 Iteration 1600. Current Loss 1653.5596071624757\n",
      "Epoch 8 Iteration 1700. Current Loss 1637.5786198425294\n",
      "Epoch 8 Iteration 1800. Current Loss 2727.220723724365\n",
      "Epoch 8 Iteration 1900. Current Loss 1694.2159590911865\n",
      "Epoch 8 Iteration 2000. Current Loss 2264.5952435302734\n",
      "Epoch 8 Iteration 2100. Current Loss 1558.2149800109864\n",
      "Epoch 8 Iteration 2200. Current Loss 1792.6549289703369\n",
      "Epoch 8 Iteration 2300. Current Loss 1635.6935220336914\n",
      "Epoch 8 Iteration 2400. Current Loss 2403.297117614746\n",
      "Epoch 8 Iteration 2500. Current Loss 2066.406202316284\n",
      "Epoch 8 Iteration 2600. Current Loss 1511.5360806274414\n",
      "Epoch 8 Iteration 2700. Current Loss 2316.5618048095703\n",
      "Epoch 8 Iteration 2800. Current Loss 1517.8573139953614\n",
      "Epoch 8 Iteration 2900. Current Loss 1606.6618984985353\n",
      "Epoch 8 Iteration 3000. Current Loss 1479.76650390625\n",
      "Epoch 8 Iteration 3100. Current Loss 3792.6196138000487\n",
      "Epoch 8 Iteration 3200. Current Loss 2248.78320602417\n",
      "Epoch 8 Iteration 3300. Current Loss 1706.35660446167\n",
      "Epoch 8 Iteration 3400. Current Loss 2461.851810913086\n",
      "Epoch 8 Iteration 3500. Current Loss 1661.4783939361573\n",
      "Epoch 8 Iteration 3600. Current Loss 1914.4460446166993\n",
      "Epoch 8 Iteration 3700. Current Loss 1915.1218577575683\n",
      "Epoch 8 Iteration 3800. Current Loss 1818.0433822631835\n",
      "vloss - 1045339.1814575195\n"
     ]
    },
    {
     "data": {
      "application/vnd.jupyter.widget-view+json": {
       "model_id": "5559c8aa84cc4aa7bef89c5e8e26f171",
       "version_major": 2,
       "version_minor": 0
      },
      "text/plain": [
       "  0%|          | 0/3831 [00:00<?, ?it/s]"
      ]
     },
     "metadata": {},
     "output_type": "display_data"
    },
    {
     "name": "stdout",
     "output_type": "stream",
     "text": [
      "Epoch 9 Iteration 100. Current Loss 2166.794865951538\n",
      "Epoch 9 Iteration 200. Current Loss 1478.504774017334\n",
      "Epoch 9 Iteration 300. Current Loss 1338.1061249542236\n",
      "Epoch 9 Iteration 400. Current Loss 1471.4172843170165\n",
      "Epoch 9 Iteration 500. Current Loss 1920.4941537475586\n",
      "Epoch 9 Iteration 600. Current Loss 1856.6884677124024\n",
      "Epoch 9 Iteration 700. Current Loss 2218.5166842651365\n",
      "Epoch 9 Iteration 800. Current Loss 1531.672385559082\n",
      "Epoch 9 Iteration 900. Current Loss 2216.0451028442385\n",
      "Epoch 9 Iteration 1000. Current Loss 2497.1751039123537\n",
      "Epoch 9 Iteration 1100. Current Loss 1767.3694050598144\n",
      "Epoch 9 Iteration 1200. Current Loss 1860.7228514099122\n",
      "Epoch 9 Iteration 1300. Current Loss 1833.9656491088867\n",
      "Epoch 9 Iteration 1400. Current Loss 1605.373692779541\n",
      "Epoch 9 Iteration 1500. Current Loss 2013.9069773864746\n",
      "Epoch 9 Iteration 1600. Current Loss 1640.810926055908\n",
      "Epoch 9 Iteration 1700. Current Loss 3173.559717025757\n",
      "Epoch 9 Iteration 1800. Current Loss 1840.6224784088135\n",
      "Epoch 9 Iteration 1900. Current Loss 1882.797975769043\n",
      "Epoch 9 Iteration 2000. Current Loss 1962.6959083557128\n",
      "Epoch 9 Iteration 2100. Current Loss 2023.5528982543944\n",
      "Epoch 9 Iteration 2200. Current Loss 2434.3043685913085\n",
      "Epoch 9 Iteration 2300. Current Loss 1689.5310026550294\n",
      "Epoch 9 Iteration 2400. Current Loss 1831.7153100585938\n",
      "Epoch 9 Iteration 2500. Current Loss 2063.8964855957033\n",
      "Epoch 9 Iteration 2600. Current Loss 1524.0483139038085\n",
      "Epoch 9 Iteration 2700. Current Loss 1986.0512574005127\n",
      "Epoch 9 Iteration 2800. Current Loss 1940.7658779144288\n",
      "Epoch 9 Iteration 2900. Current Loss 1650.9994661712647\n",
      "Epoch 9 Iteration 3000. Current Loss 2210.8350981903077\n",
      "Epoch 9 Iteration 3100. Current Loss 1535.1503059387207\n",
      "Epoch 9 Iteration 3200. Current Loss 2383.1668716430663\n",
      "Epoch 9 Iteration 3300. Current Loss 1870.9107572937012\n",
      "Epoch 9 Iteration 3400. Current Loss 1861.4887484741212\n",
      "Epoch 9 Iteration 3500. Current Loss 1874.787562866211\n",
      "Epoch 9 Iteration 3600. Current Loss 1964.3504595947265\n",
      "Epoch 9 Iteration 3700. Current Loss 1846.9603440856934\n",
      "Epoch 9 Iteration 3800. Current Loss 1850.9535762023925\n",
      "vloss - 1044932.6418075562\n"
     ]
    }
   ],
   "source": [
    "# train model\n",
    "output1 = train_model_bert_reg(model, train_loader2, valid_loader2, loss_func1, optimizer, device, num_epochs, \"trans_model_1.pth\")"
   ]
  },
  {
   "cell_type": "code",
   "execution_count": 22,
   "metadata": {},
   "outputs": [],
   "source": [
    "model, train_losses, valid_losses = output1"
   ]
  },
  {
   "cell_type": "code",
   "execution_count": 24,
   "metadata": {},
   "outputs": [],
   "source": [
    "with open(\"../losses/transformer_train_loss1\", \"wb\") as fb:\n",
    "    pickle.dump(train_losses, fb)\n",
    "\n",
    "with open(\"../losses/transformer_valid_loss1\", \"wb\") as fb:\n",
    "    pickle.dump(valid_losses, fb)"
   ]
  }
 ],
 "metadata": {
  "kernelspec": {
   "display_name": "Python 3",
   "language": "python",
   "name": "python3"
  },
  "language_info": {
   "codemirror_mode": {
    "name": "ipython",
    "version": 3
   },
   "file_extension": ".py",
   "mimetype": "text/x-python",
   "name": "python",
   "nbconvert_exporter": "python",
   "pygments_lexer": "ipython3",
   "version": "3.9.6"
  },
  "orig_nbformat": 4,
  "vscode": {
   "interpreter": {
    "hash": "b8cd98ac651c668ce2c6203d75b23f2d5bc0a45f06efaf825f1ea3a340dc3a78"
   }
  }
 },
 "nbformat": 4,
 "nbformat_minor": 2
}
