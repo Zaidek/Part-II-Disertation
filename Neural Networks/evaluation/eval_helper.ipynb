{
 "cells": [
  {
   "cell_type": "code",
   "execution_count": null,
   "metadata": {},
   "outputs": [],
   "source": [
    "# import standard libraries\n",
    "import numpy as np\n",
    "import matplotlib.pyplot as plt"
   ]
  },
  {
   "cell_type": "code",
   "execution_count": null,
   "metadata": {},
   "outputs": [],
   "source": [
    "# import evaluation libraries\n",
    "from sklearn import metrics\n",
    "from sklearn.linear_model import LinearRegression\n",
    "from sklearn.metrics import confusion_matrix, accuracy_score"
   ]
  },
  {
   "cell_type": "code",
   "execution_count": null,
   "metadata": {},
   "outputs": [],
   "source": [
    "def evaluate_model(loader, model, loss_func, device):\n",
    "    predictions = []\n",
    "    labels = []\n",
    "    losses = []\n",
    "    for index, batch in enumerate(loader):\n",
    "        embedding, score = batch\n",
    "\n",
    "        # make sure data is on device\n",
    "        embedding = embedding.to(device)\n",
    "        scores = score.to(device)\n",
    "\n",
    "        # get prediction\n",
    "        preds = model(embedding)\n",
    "\n",
    "        # get loss\n",
    "        loss = loss_func(preds, scores.float().unsqueeze(1))\n",
    "\n",
    "        # add data to outputs\n",
    "        predictions.append(preds)\n",
    "        labels.append(scores)\n",
    "        losses.append(loss)\n",
    "    \n",
    "    return (predictions, labels, losses)"
   ]
  },
  {
   "cell_type": "code",
   "execution_count": null,
   "metadata": {},
   "outputs": [],
   "source": [
    "# define functions for plotting losses\n",
    "def plot_losses(losses, title):\n",
    "    plt.figure(figsize=(20, 10))\n",
    "    plt.plot(np.arange(len(losses)), losses)\n",
    "    plt.xlabel(\"Iteration\")\n",
    "    plt.ylabel(title)\n",
    "    plt.show()\n",
    "\n",
    "def plot_losses_log(losses, title):\n",
    "    plt.figure(figsize=(20, 10))\n",
    "    plt.plot(np.log(np.arange(len(losses))), losses)\n",
    "    plt.xlabel(\"Iteration\")\n",
    "    plt.ylabel(title)\n",
    "    plt.show()"
   ]
  },
  {
   "cell_type": "code",
   "execution_count": null,
   "metadata": {},
   "outputs": [],
   "source": [
    "# define functions for plotting confusion matrix statistics\n",
    "def plot_classification_metrics(labels, predictions):\n",
    "\n",
    "    # define and plot confusion matrix\n",
    "    conf_matrix = confusion_matrix(labels, predictions)\n",
    "    display = metrics.ConfusionMatrixDisplay(confusion_matrix=conf_matrix, display_labels=[\"not popular\", \"popular\"])\n",
    "    display.plot()\n",
    "    plt.show()\n",
    "\n",
    "    # plot ROC and calculate AUC\n",
    "    fpr, tpr, _ = metrics.roc_curve(labels, predictions)\n",
    "    auc = metrics.roc_auc_score(labels, predictions)\n",
    "    plt.plot(fpr, tpr, label=\"AUC: \"+str(auc))\n",
    "    plt.xlabel(\"False Postitive Rate\")\n",
    "    plt.ylabel(\"True Positive Rate\")\n",
    "    plt.legend(loc = \"best\")\n",
    "    plt.show()"
   ]
  }
 ],
 "metadata": {
  "kernelspec": {
   "display_name": "Python 3",
   "language": "python",
   "name": "python3"
  },
  "language_info": {
   "name": "python",
   "version": "3.9.6"
  },
  "orig_nbformat": 4,
  "vscode": {
   "interpreter": {
    "hash": "b8cd98ac651c668ce2c6203d75b23f2d5bc0a45f06efaf825f1ea3a340dc3a78"
   }
  }
 },
 "nbformat": 4,
 "nbformat_minor": 2
}
