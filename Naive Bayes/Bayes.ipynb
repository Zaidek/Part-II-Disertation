{
 "cells": [
  {
   "cell_type": "code",
   "execution_count": 44,
   "metadata": {},
   "outputs": [],
   "source": [
    "# import standard libraries\n",
    "import pandas as pd\n",
    "import numpy as np\n",
    "import datetime\n",
    "import pickle\n",
    "import matplotlib.pyplot as plt\n",
    "\n",
    "# import preproccessing modules\n",
    "import re\n",
    "from nltk.corpus import stopwords\n",
    "import string\n",
    "\n",
    "# import functionality for naive bayes\n",
    "from sklearn.feature_extraction.text import CountVectorizer\n",
    "from sklearn.naive_bayes import MultinomialNB\n",
    "from sklearn.naive_bayes import GaussianNB\n",
    "from sklearn.pipeline import make_pipeline\n",
    "from sklearn.metrics import confusion_matrix, accuracy_score"
   ]
  },
  {
   "cell_type": "code",
   "execution_count": 45,
   "metadata": {},
   "outputs": [],
   "source": [
    "# import training data\n",
    "with open(\"../data/training_data\", \"rb\") as fb:\n",
    "    training_data = pickle.load(fb)\n",
    "\n",
    "# import testing data\n",
    "with open(\"../data/testing_data\", \"rb\") as fb:\n",
    "    testing_data = pickle.load(fb)"
   ]
  },
  {
   "cell_type": "code",
   "execution_count": 46,
   "metadata": {},
   "outputs": [],
   "source": [
    "min = -1\n",
    "training_data = training_data.loc[training_data.score > min]\n",
    "testing_data = testing_data.loc[testing_data.score > min]"
   ]
  },
  {
   "cell_type": "code",
   "execution_count": 47,
   "metadata": {},
   "outputs": [],
   "source": [
    "req_cols = [\"url\", \"title\", \"text\", \"time\", \"score\"]\n",
    "training_data = training_data.loc[training_data.type == \"story\"]\n",
    "training_data = training_data[req_cols].reset_index(drop = True)\n",
    "\n",
    "testing_data = testing_data.loc[testing_data.type == \"story\"]\n",
    "testing_data = testing_data[req_cols].reset_index(drop = True)"
   ]
  },
  {
   "cell_type": "code",
   "execution_count": 48,
   "metadata": {},
   "outputs": [],
   "source": [
    "cutoff = 20\n",
    "\n",
    "training_data[\"score\"] = (training_data[\"score\"] > cutoff).astype(int)\n",
    "testing_data[\"score\"] = (testing_data[\"score\"] > cutoff).astype(int)"
   ]
  },
  {
   "cell_type": "code",
   "execution_count": 49,
   "metadata": {},
   "outputs": [],
   "source": [
    "training_data[\"url\"] = training_data[\"url\"].fillna(\"\")\n",
    "training_data[\"title\"] = training_data[\"title\"].fillna(\"\")\n",
    "training_data[\"text\"] = training_data[\"text\"].fillna(\"\")\n",
    "\n",
    "\n",
    "testing_data[\"url\"] = testing_data[\"url\"].fillna(\"\")\n",
    "testing_data[\"title\"] = testing_data[\"title\"].fillna(\"\")\n",
    "testing_data[\"text\"] = testing_data[\"text\"].fillna(\"\")"
   ]
  },
  {
   "cell_type": "code",
   "execution_count": 50,
   "metadata": {},
   "outputs": [
    {
     "data": {
      "text/html": [
       "<div>\n",
       "<style scoped>\n",
       "    .dataframe tbody tr th:only-of-type {\n",
       "        vertical-align: middle;\n",
       "    }\n",
       "\n",
       "    .dataframe tbody tr th {\n",
       "        vertical-align: top;\n",
       "    }\n",
       "\n",
       "    .dataframe thead th {\n",
       "        text-align: right;\n",
       "    }\n",
       "</style>\n",
       "<table border=\"1\" class=\"dataframe\">\n",
       "  <thead>\n",
       "    <tr style=\"text-align: right;\">\n",
       "      <th></th>\n",
       "      <th>url</th>\n",
       "      <th>title</th>\n",
       "      <th>text</th>\n",
       "      <th>time</th>\n",
       "      <th>score</th>\n",
       "    </tr>\n",
       "  </thead>\n",
       "  <tbody>\n",
       "    <tr>\n",
       "      <th>0</th>\n",
       "      <td>https://betco.in</td>\n",
       "      <td>Not sure if this is legal for US citizens but ...</td>\n",
       "      <td></td>\n",
       "      <td>1.304883e+09</td>\n",
       "      <td>0</td>\n",
       "    </tr>\n",
       "    <tr>\n",
       "      <th>1</th>\n",
       "      <td>http://www.theguardian.com/us-news/2015/aug/15...</td>\n",
       "      <td>What happens to Americans who film police viol...</td>\n",
       "      <td></td>\n",
       "      <td>1.439662e+09</td>\n",
       "      <td>0</td>\n",
       "    </tr>\n",
       "    <tr>\n",
       "      <th>2</th>\n",
       "      <td>http://www.bigdata-startups.com/BigData-startu...</td>\n",
       "      <td>Big data startup Gainsight uses big data to im...</td>\n",
       "      <td></td>\n",
       "      <td>1.368459e+09</td>\n",
       "      <td>0</td>\n",
       "    </tr>\n",
       "    <tr>\n",
       "      <th>3</th>\n",
       "      <td>https://www.sciencebasedmedicine.org/how-to-li...</td>\n",
       "      <td>How to Listen to Chi</td>\n",
       "      <td></td>\n",
       "      <td>1.436895e+09</td>\n",
       "      <td>0</td>\n",
       "    </tr>\n",
       "    <tr>\n",
       "      <th>4</th>\n",
       "      <td>http://arstechnica.com/tech-policy/news/2011/0...</td>\n",
       "      <td>Google faces $50 million lawsuit over Android ...</td>\n",
       "      <td></td>\n",
       "      <td>1.305303e+09</td>\n",
       "      <td>0</td>\n",
       "    </tr>\n",
       "    <tr>\n",
       "      <th>...</th>\n",
       "      <td>...</td>\n",
       "      <td>...</td>\n",
       "      <td>...</td>\n",
       "      <td>...</td>\n",
       "      <td>...</td>\n",
       "    </tr>\n",
       "    <tr>\n",
       "      <th>432533</th>\n",
       "      <td>http://www.theregister.co.uk/2009/02/11/feinst...</td>\n",
       "      <td>US lawmaker injects ISP throttle into Obama re...</td>\n",
       "      <td></td>\n",
       "      <td>1.234388e+09</td>\n",
       "      <td>0</td>\n",
       "    </tr>\n",
       "    <tr>\n",
       "      <th>432534</th>\n",
       "      <td>https://www.usenix.org/legacy/publications/lib...</td>\n",
       "      <td>Failure-Oblivious Computing (2004) [pdf]</td>\n",
       "      <td></td>\n",
       "      <td>1.446683e+09</td>\n",
       "      <td>0</td>\n",
       "    </tr>\n",
       "    <tr>\n",
       "      <th>432535</th>\n",
       "      <td>http://www.huffingtonpost.com/tim-chartier/mat...</td>\n",
       "      <td>Everything I Needed to Know I Learned in Math ...</td>\n",
       "      <td></td>\n",
       "      <td>1.338758e+09</td>\n",
       "      <td>0</td>\n",
       "    </tr>\n",
       "    <tr>\n",
       "      <th>432536</th>\n",
       "      <td>https://twitter.com/#!/chanian</td>\n",
       "      <td>Twitter employee live tweets WSOP from the table</td>\n",
       "      <td></td>\n",
       "      <td>1.341296e+09</td>\n",
       "      <td>0</td>\n",
       "    </tr>\n",
       "    <tr>\n",
       "      <th>432537</th>\n",
       "      <td>http://phys.org/news/2016-06-deep-learning-vis...</td>\n",
       "      <td>Deep-learning vision system anticipates human ...</td>\n",
       "      <td></td>\n",
       "      <td>1.467493e+09</td>\n",
       "      <td>0</td>\n",
       "    </tr>\n",
       "  </tbody>\n",
       "</table>\n",
       "<p>432538 rows × 5 columns</p>\n",
       "</div>"
      ],
      "text/plain": [
       "                                                      url  \\\n",
       "0                                        https://betco.in   \n",
       "1       http://www.theguardian.com/us-news/2015/aug/15...   \n",
       "2       http://www.bigdata-startups.com/BigData-startu...   \n",
       "3       https://www.sciencebasedmedicine.org/how-to-li...   \n",
       "4       http://arstechnica.com/tech-policy/news/2011/0...   \n",
       "...                                                   ...   \n",
       "432533  http://www.theregister.co.uk/2009/02/11/feinst...   \n",
       "432534  https://www.usenix.org/legacy/publications/lib...   \n",
       "432535  http://www.huffingtonpost.com/tim-chartier/mat...   \n",
       "432536                     https://twitter.com/#!/chanian   \n",
       "432537  http://phys.org/news/2016-06-deep-learning-vis...   \n",
       "\n",
       "                                                    title text          time  \\\n",
       "0       Not sure if this is legal for US citizens but ...       1.304883e+09   \n",
       "1       What happens to Americans who film police viol...       1.439662e+09   \n",
       "2       Big data startup Gainsight uses big data to im...       1.368459e+09   \n",
       "3                                    How to Listen to Chi       1.436895e+09   \n",
       "4       Google faces $50 million lawsuit over Android ...       1.305303e+09   \n",
       "...                                                   ...  ...           ...   \n",
       "432533  US lawmaker injects ISP throttle into Obama re...       1.234388e+09   \n",
       "432534           Failure-Oblivious Computing (2004) [pdf]       1.446683e+09   \n",
       "432535  Everything I Needed to Know I Learned in Math ...       1.338758e+09   \n",
       "432536   Twitter employee live tweets WSOP from the table       1.341296e+09   \n",
       "432537  Deep-learning vision system anticipates human ...       1.467493e+09   \n",
       "\n",
       "        score  \n",
       "0           0  \n",
       "1           0  \n",
       "2           0  \n",
       "3           0  \n",
       "4           0  \n",
       "...       ...  \n",
       "432533      0  \n",
       "432534      0  \n",
       "432535      0  \n",
       "432536      0  \n",
       "432537      0  \n",
       "\n",
       "[432538 rows x 5 columns]"
      ]
     },
     "execution_count": 50,
     "metadata": {},
     "output_type": "execute_result"
    }
   ],
   "source": [
    "training_data"
   ]
  },
  {
   "attachments": {},
   "cell_type": "markdown",
   "metadata": {},
   "source": [
    "We want to calculate the probablity of a post being either popular or not popular (1 or 0)\n",
    "\n",
    "To do this we want to get the argmax of P(C|post)\n",
    "\n",
    "P(C|post) = P(C) * P(post | C)\n",
    "\n",
    "P(post | C) = MUL P(x | C) for atribute x in post\n",
    "\n",
    "x consists of:\n",
    "   - words in url\n",
    "   - words in title\n",
    "   - words in text\n",
    "   - time\n",
    "\n",
    "\n",
    "For the words, we use a model in which we count the number of occurances of each word (in total, and within each class)\n",
    "\n",
    "For time, we can use a Gaussian Naive Bayes model\n"
   ]
  },
  {
   "cell_type": "code",
   "execution_count": 51,
   "metadata": {},
   "outputs": [
    {
     "name": "stdout",
     "output_type": "stream",
     "text": [
      "0.08557167231549598 0.914428327684504\n"
     ]
    }
   ],
   "source": [
    "p_popular = (training_data.score.sum()) / len(training_data)\n",
    "p_not_popular = 1 - p_popular\n",
    "\n",
    "print(p_popular, p_not_popular)"
   ]
  },
  {
   "cell_type": "code",
   "execution_count": 52,
   "metadata": {},
   "outputs": [],
   "source": [
    "stop_words = set(stopwords.words('english'))\n",
    "\n",
    "def preproccess(text):\n",
    "\n",
    "    tokens = re.split('\\s+', text)\n",
    "    tokens = [\"\".join([i for i in x if i not in string.punctuation]) for x in tokens]\n",
    "    tokens = [re.sub(\"\\d+\", \"\", x) for x in tokens]\n",
    "    tokens = [x.lower() for x in tokens]\n",
    "    tokens = [token for token in tokens if len(token) > 2]\n",
    "    final = [word for word in tokens if word not in stop_words]\n",
    "    final = \"\".join(x + \" \" for x in final)\n",
    "\n",
    "    return final"
   ]
  },
  {
   "cell_type": "code",
   "execution_count": 53,
   "metadata": {},
   "outputs": [],
   "source": [
    "training_data[\"title\"] = training_data[\"title\"].apply(lambda x: preproccess(x))\n",
    "training_data[\"text\"] = training_data[\"text\"].apply(lambda x: preproccess(x))\n",
    "\n",
    "testing_data[\"title\"] = testing_data[\"title\"].apply(lambda x: preproccess(x))\n",
    "testing_data[\"text\"] = testing_data[\"text\"].apply(lambda x: preproccess(x))"
   ]
  },
  {
   "cell_type": "code",
   "execution_count": 54,
   "metadata": {},
   "outputs": [],
   "source": [
    "training_data[\"time\"] = training_data[\"time\"].fillna(-1)\n",
    "testing_data[\"time\"] = testing_data[\"time\"].fillna(-1)\n",
    "\n",
    "training_data[\"time\"] = training_data[\"time\"].apply(lambda x: [x])\n",
    "testing_data[\"time\"] = testing_data[\"time\"].apply(lambda x: [x])"
   ]
  },
  {
   "cell_type": "code",
   "execution_count": 55,
   "metadata": {},
   "outputs": [],
   "source": [
    "titles_model = make_pipeline(CountVectorizer(), MultinomialNB())\n",
    "texts_model = make_pipeline(CountVectorizer(), MultinomialNB())\n",
    "combined_model = make_pipeline(CountVectorizer(), MultinomialNB())\n",
    "\n",
    "time_model = make_pipeline(GaussianNB())"
   ]
  },
  {
   "cell_type": "code",
   "execution_count": 56,
   "metadata": {},
   "outputs": [
    {
     "data": {
      "text/plain": [
       "Pipeline(steps=[('countvectorizer', CountVectorizer()),\n",
       "                ('multinomialnb', MultinomialNB())])"
      ]
     },
     "execution_count": 56,
     "metadata": {},
     "output_type": "execute_result"
    }
   ],
   "source": [
    "titles_model.fit(training_data[\"title\"], training_data[\"score\"])"
   ]
  },
  {
   "cell_type": "code",
   "execution_count": 57,
   "metadata": {},
   "outputs": [
    {
     "data": {
      "text/plain": [
       "Pipeline(steps=[('countvectorizer', CountVectorizer()),\n",
       "                ('multinomialnb', MultinomialNB())])"
      ]
     },
     "execution_count": 57,
     "metadata": {},
     "output_type": "execute_result"
    }
   ],
   "source": [
    "texts_model.fit(training_data[\"text\"], training_data[\"score\"])"
   ]
  },
  {
   "cell_type": "code",
   "execution_count": 58,
   "metadata": {},
   "outputs": [
    {
     "data": {
      "text/plain": [
       "Pipeline(steps=[('countvectorizer', CountVectorizer()),\n",
       "                ('multinomialnb', MultinomialNB())])"
      ]
     },
     "execution_count": 58,
     "metadata": {},
     "output_type": "execute_result"
    }
   ],
   "source": [
    "combined_model.fit(training_data[\"text\"] + \" \" + training_data[\"text\"], training_data[\"score\"])"
   ]
  },
  {
   "cell_type": "code",
   "execution_count": 59,
   "metadata": {},
   "outputs": [],
   "source": [
    "predictions1 = titles_model.predict(testing_data[\"title\"])\n",
    "predictions2 = texts_model.predict(testing_data[\"text\"])\n",
    "predictions3 = combined_model.predict(testing_data[\"title\"] + \" \" + testing_data[\"text\"])"
   ]
  },
  {
   "cell_type": "code",
   "execution_count": 60,
   "metadata": {},
   "outputs": [],
   "source": [
    "scores = testing_data[\"score\"].fillna(0)\n",
    "conf_mat_1 = confusion_matrix(scores, predictions1)\n",
    "conf_mat_2 = confusion_matrix(scores, predictions2)\n",
    "conf_mat_3 = confusion_matrix(scores, predictions3)"
   ]
  },
  {
   "cell_type": "code",
   "execution_count": 61,
   "metadata": {},
   "outputs": [],
   "source": [
    "from sklearn import metrics"
   ]
  },
  {
   "cell_type": "code",
   "execution_count": 62,
   "metadata": {},
   "outputs": [
    {
     "data": {
      "image/png": "[encoded data removed]",
      "text/plain": [
       "<Figure size 432x288 with 2 Axes>"
      ]
     },
     "metadata": {
      "needs_background": "light"
     },
     "output_type": "display_data"
    }
   ],
   "source": [
    "display = metrics.ConfusionMatrixDisplay(confusion_matrix=conf_mat_1, display_labels = [\"not popular\", \"popular\"])\n",
    "display.plot()\n",
    "plt.show()"
   ]
  },
  {
   "cell_type": "code",
   "execution_count": 63,
   "metadata": {},
   "outputs": [
    {
     "data": {
      "image/png": "[encoded data removed]",
      "text/plain": [
       "<Figure size 432x288 with 2 Axes>"
      ]
     },
     "metadata": {
      "needs_background": "light"
     },
     "output_type": "display_data"
    }
   ],
   "source": [
    "display = metrics.ConfusionMatrixDisplay(confusion_matrix=conf_mat_2, display_labels = [\"not popular\", \"popular\"])\n",
    "display.plot()\n",
    "plt.show()"
   ]
  },
  {
   "cell_type": "code",
   "execution_count": 64,
   "metadata": {},
   "outputs": [
    {
     "data": {
      "image/png": "[encoded data removed]",
      "text/plain": [
       "<Figure size 432x288 with 2 Axes>"
      ]
     },
     "metadata": {
      "needs_background": "light"
     },
     "output_type": "display_data"
    }
   ],
   "source": [
    "display = metrics.ConfusionMatrixDisplay(confusion_matrix=conf_mat_3, display_labels = [\"not popular\", \"popular\"])\n",
    "display.plot()\n",
    "plt.show()"
   ]
  }
 ],
 "metadata": {
  "kernelspec": {
   "display_name": "Python 3",
   "language": "python",
   "name": "python3"
  },
  "language_info": {
   "codemirror_mode": {
    "name": "ipython",
    "version": 3
   },
   "file_extension": ".py",
   "mimetype": "text/x-python",
   "name": "python",
   "nbconvert_exporter": "python",
   "pygments_lexer": "ipython3",
   "version": "3.8.10"
  },
  "orig_nbformat": 4,
  "vscode": {
   "interpreter": {
    "hash": "916dbcbb3f70747c44a77c7bcd40155683ae19c65e1c03b4aa3499c5328201f1"
   }
  }
 },
 "nbformat": 4,
 "nbformat_minor": 2
}
