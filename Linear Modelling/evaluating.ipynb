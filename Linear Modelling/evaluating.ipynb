{
 "cells": [
  {
   "cell_type": "code",
   "execution_count": 15,
   "metadata": {},
   "outputs": [],
   "source": [
    "# import basic modules\n",
    "import numpy as np\n",
    "import pandas as pd\n",
    "import matplotlib as mpl\n",
    "import matplotlib.pyplot as plt\n",
    "import datetime\n",
    "from nltk.corpus import stopwords\n",
    "import pickle\n",
    "import dill\n",
    "\n",
    "# import specialised modules\n",
    "from sklearn import metrics\n",
    "from sklearn.linear_model import LinearRegression\n",
    "from sklearn.metrics import confusion_matrix, accuracy_score\n",
    "\n",
    "# import training functions\n",
    "from ipynb.fs.defs.training import create_x\n",
    "from ipynb.fs.defs.training import create_x2\n",
    "from ipynb.fs.defs.training import create_x3"
   ]
  },
  {
   "cell_type": "code",
   "execution_count": 3,
   "metadata": {},
   "outputs": [],
   "source": [
    "# get data\n",
    "with open(\"../data/testing_data\", \"rb\") as fb:\n",
    "    testing_data = pickle.load(fb)"
   ]
  },
  {
   "cell_type": "code",
   "execution_count": 4,
   "metadata": {},
   "outputs": [
    {
     "name": "stderr",
     "output_type": "stream",
     "text": [
      "c:\\Users\\Ethan\\AppData\\Local\\Programs\\Python\\Python39\\lib\\site-packages\\sklearn\\base.py:288: UserWarning: Trying to unpickle estimator LinearRegression from version 1.0.2 when using version 1.2.0. This might lead to breaking code or invalid results. Use at your own risk. For more info please refer to:\n",
      "https://scikit-learn.org/stable/model_persistence.html#security-maintainability-limitations\n",
      "  warnings.warn(\n"
     ]
    }
   ],
   "source": [
    "# get models\n",
    "with open(\"models\", \"rb\") as fb:\n",
    "    models = dill.load(fb)"
   ]
  },
  {
   "cell_type": "code",
   "execution_count": 5,
   "metadata": {},
   "outputs": [],
   "source": [
    "with open(\"../data/good_words_text\", \"rb\") as fb:\n",
    "    words_text = dill.load(fb)\n",
    "\n",
    "with open(\"../data/good_words_title\", \"rb\") as fb:\n",
    "    words_title = dill.load(fb)"
   ]
  },
  {
   "cell_type": "code",
   "execution_count": 6,
   "metadata": {},
   "outputs": [],
   "source": [
    "def get_predictions(model, inputs):\n",
    "    output = []\n",
    "    for i in inputs:\n",
    "        output.append(model.predict([i]))\n",
    "    return output"
   ]
  },
  {
   "cell_type": "code",
   "execution_count": 20,
   "metadata": {},
   "outputs": [],
   "source": [
    "def evaluate_model_regression(model, x_fun, inputs, words, labels):\n",
    "    predictions = get_predictions(model, x_fun(inputs, words))\n",
    "    output_metrics = []\n",
    "    output_metrics.append(metrics.mean_absolute_error(labels, predictions))\n",
    "    output_metrics.append(metrics.mean_squared_error(labels, predictions))\n",
    "    return (predictions, output_metrics)"
   ]
  },
  {
   "cell_type": "code",
   "execution_count": 21,
   "metadata": {},
   "outputs": [],
   "source": [
    "def evaluate_model_classification(model, x_fun, inputs, words, labels):\n",
    "    predictions = [1 if x >= 20 else 0 for x in get_predictions(model, x_fun(inputs, words))]\n",
    "    output_metrics = []\n",
    "    output_metrics.append(metrics.mean_absolute_error(labels, predictions))\n",
    "    output_metrics.append(metrics.mean_squared_error(labels, predictions))\n",
    "    output_metrics.append(metrics.accuracy_score(labels, predictions))\n",
    "    return (predictions, output_metrics)"
   ]
  },
  {
   "cell_type": "code",
   "execution_count": 27,
   "metadata": {},
   "outputs": [],
   "source": [
    "labels_reg = list(testing_data.loc[testing_data.type == \"story\"].score.fillna(0))\n",
    "labels_bin = [1 if x >= 20 else 0 for x in labels_reg]"
   ]
  },
  {
   "cell_type": "code",
   "execution_count": 9,
   "metadata": {},
   "outputs": [
    {
     "name": "stdout",
     "output_type": "stream",
     "text": [
      "[0.08384966366225362, 0.08384966366225362, 0.9161503363377463]\n",
      "[0.08384966366225362, 0.08384966366225362, 0.9161503363377463]\n",
      "[0.08384966366225362, 0.08384966366225362, 0.9161503363377463]\n"
     ]
    }
   ],
   "source": [
    "# get evaluation metrics of classification models\n",
    "out1 = evaluate_model_classification(models[0], create_x, testing_data.loc[testing_data.type == \"story\"], words_text, labels_bin)\n",
    "out2 = evaluate_model_classification(models[1], create_x2, testing_data.loc[testing_data.type == \"story\"], words_text, labels_bin)\n",
    "out3 = evaluate_model_classification(models[2], create_x3, testing_data.loc[testing_data.type == \"story\"], words_title, labels_bin)\n",
    "print(out1[1])\n",
    "print(out2[1])\n",
    "print(out3[1])"
   ]
  },
  {
   "cell_type": "code",
   "execution_count": 29,
   "metadata": {},
   "outputs": [
    {
     "name": "stdout",
     "output_type": "stream",
     "text": [
      "[14.833926808649483, 1889.1345268577934]\n",
      "[14.769165869559027, 1886.9725831570834]\n",
      "[14.802496984959266, 1887.7263042674647]\n"
     ]
    }
   ],
   "source": [
    "# get evaluation metrics of regression models\n",
    "regression_output1 = evaluate_model_regression(models[0], create_x, testing_data.loc[testing_data.type == \"story\"], words_text, labels_reg)\n",
    "regression_output2 = evaluate_model_regression(models[1], create_x2, testing_data.loc[testing_data.type == \"story\"], words_text, labels_reg)\n",
    "regression_output3 = evaluate_model_regression(models[2], create_x3, testing_data.loc[testing_data.type == \"story\"], words_title, labels_reg)\n",
    "print(regression_output1[1])\n",
    "print(regression_output2[1])\n",
    "print(regression_output3[1])"
   ]
  },
  {
   "cell_type": "code",
   "execution_count": 37,
   "metadata": {},
   "outputs": [],
   "source": [
    "regression_output1_vals = [x[0] for x in regression_output1[0]]\n",
    "regression_output2_vals = [x[0] for x in regression_output2[0]]\n",
    "regression_output3_vals = [x[0] for x in regression_output3[0]]"
   ]
  },
  {
   "cell_type": "code",
   "execution_count": 16,
   "metadata": {},
   "outputs": [],
   "source": [
    "# define confusion matrix for models\n",
    "classification_conf1 = confusion_matrix(labels_bin, out1[0])\n",
    "classification_conf2 = confusion_matrix(labels_bin, out2[0])\n",
    "classification_conf3 = confusion_matrix(labels_bin, out3[0])"
   ]
  },
  {
   "cell_type": "code",
   "execution_count": 17,
   "metadata": {},
   "outputs": [
    {
     "data": {
      "image/png": "[encoded data removed]",
      "text/plain": [
       "<Figure size 432x288 with 2 Axes>"
      ]
     },
     "metadata": {
      "needs_background": "light"
     },
     "output_type": "display_data"
    }
   ],
   "source": [
    "# plot confusion matrix for first model\n",
    "display = metrics.ConfusionMatrixDisplay(confusion_matrix=conf1, display_labels=[\"not popular\", \"poular\"])\n",
    "display.plot()\n",
    "plt.show()"
   ]
  },
  {
   "cell_type": "code",
   "execution_count": 18,
   "metadata": {},
   "outputs": [
    {
     "data": {
      "image/png": "[encoded data removed]",
      "text/plain": [
       "<Figure size 432x288 with 2 Axes>"
      ]
     },
     "metadata": {
      "needs_background": "light"
     },
     "output_type": "display_data"
    }
   ],
   "source": [
    "# plot confusion matrix for second model\n",
    "display = metrics.ConfusionMatrixDisplay(confusion_matrix=conf2, display_labels=[\"not popular\", \"poular\"])\n",
    "display.plot()\n",
    "plt.show()"
   ]
  },
  {
   "cell_type": "code",
   "execution_count": 19,
   "metadata": {},
   "outputs": [
    {
     "data": {
      "image/png": "[encoded data removed]",
      "text/plain": [
       "<Figure size 432x288 with 2 Axes>"
      ]
     },
     "metadata": {
      "needs_background": "light"
     },
     "output_type": "display_data"
    }
   ],
   "source": [
    "# plot confusion matrix for third model\n",
    "display = metrics.ConfusionMatrixDisplay(confusion_matrix=conf3, display_labels=[\"not popular\", \"poular\"])\n",
    "display.plot()\n",
    "plt.show()"
   ]
  },
  {
   "cell_type": "code",
   "execution_count": 44,
   "metadata": {},
   "outputs": [],
   "source": [
    "def plot_predictions(predictions, labels):\n",
    "\n",
    "    #define plot size\n",
    "    plt.figure(figsize = (20, 5))\n",
    "\n",
    "    # plot labels and predictions\n",
    "   \n",
    "    ax = [np.log(labels), np.log(predictions)]\n",
    "\n",
    "    plt.boxplot(ax, vert = False)\n",
    "    plt.yticks([1,2], [\"labels\", \"predictions\"])\n",
    "    plt.xlabel(\"Score\")\n",
    "\n",
    "    # show graph \n",
    "    plt.show()"
   ]
  },
  {
   "cell_type": "code",
   "execution_count": 45,
   "metadata": {},
   "outputs": [
    {
     "name": "stderr",
     "output_type": "stream",
     "text": [
      "C:\\Users\\Ethan\\AppData\\Local\\Temp\\ipykernel_16116\\883297131.py:8: RuntimeWarning: divide by zero encountered in log\n",
      "  ax = [np.log(labels), np.log(predictions)]\n",
      "C:\\Users\\Ethan\\AppData\\Local\\Temp\\ipykernel_16116\\883297131.py:8: RuntimeWarning: invalid value encountered in log\n",
      "  ax = [np.log(labels), np.log(predictions)]\n"
     ]
    },
    {
     "data": {
      "image/png": "[encoded data removed]",
      "text/plain": [
       "<Figure size 1440x360 with 1 Axes>"
      ]
     },
     "metadata": {
      "needs_background": "light"
     },
     "output_type": "display_data"
    },
    {
     "name": "stderr",
     "output_type": "stream",
     "text": [
      "C:\\Users\\Ethan\\AppData\\Local\\Temp\\ipykernel_16116\\883297131.py:8: RuntimeWarning: divide by zero encountered in log\n",
      "  ax = [np.log(labels), np.log(predictions)]\n",
      "C:\\Users\\Ethan\\AppData\\Local\\Temp\\ipykernel_16116\\883297131.py:8: RuntimeWarning: invalid value encountered in log\n",
      "  ax = [np.log(labels), np.log(predictions)]\n"
     ]
    },
    {
     "data": {
      "image/png": "[encoded data removed]",
      "text/plain": [
       "<Figure size 1440x360 with 1 Axes>"
      ]
     },
     "metadata": {
      "needs_background": "light"
     },
     "output_type": "display_data"
    },
    {
     "name": "stderr",
     "output_type": "stream",
     "text": [
      "C:\\Users\\Ethan\\AppData\\Local\\Temp\\ipykernel_16116\\883297131.py:8: RuntimeWarning: divide by zero encountered in log\n",
      "  ax = [np.log(labels), np.log(predictions)]\n",
      "C:\\Users\\Ethan\\AppData\\Local\\Temp\\ipykernel_16116\\883297131.py:8: RuntimeWarning: invalid value encountered in log\n",
      "  ax = [np.log(labels), np.log(predictions)]\n"
     ]
    },
    {
     "data": {
      "image/png": "[encoded data removed]",
      "text/plain": [
       "<Figure size 1440x360 with 1 Axes>"
      ]
     },
     "metadata": {
      "needs_background": "light"
     },
     "output_type": "display_data"
    }
   ],
   "source": [
    "plot_predictions(regression_output1_vals, labels_reg)\n",
    "plot_predictions(regression_output2_vals, labels_reg)\n",
    "plot_predictions(regression_output1_vals, labels_reg)"
   ]
  },
  {
   "cell_type": "code",
   "execution_count": 46,
   "metadata": {},
   "outputs": [
    {
     "name": "stdout",
     "output_type": "stream",
     "text": [
      "[14.833926808649483, 1889.1345268577934]\n",
      "[14.769165869559027, 1886.9725831570834]\n",
      "[14.802496984959266, 1887.7263042674647]\n"
     ]
    }
   ],
   "source": [
    "print(regression_output1[1])\n",
    "print(regression_output2[1])\n",
    "print(regression_output3[1])"
   ]
  }
 ],
 "metadata": {
  "kernelspec": {
   "display_name": "Python 3",
   "language": "python",
   "name": "python3"
  },
  "language_info": {
   "codemirror_mode": {
    "name": "ipython",
    "version": 3
   },
   "file_extension": ".py",
   "mimetype": "text/x-python",
   "name": "python",
   "nbconvert_exporter": "python",
   "pygments_lexer": "ipython3",
   "version": "3.9.6"
  },
  "orig_nbformat": 4,
  "vscode": {
   "interpreter": {
    "hash": "b8cd98ac651c668ce2c6203d75b23f2d5bc0a45f06efaf825f1ea3a340dc3a78"
   }
  }
 },
 "nbformat": 4,
 "nbformat_minor": 2
}
