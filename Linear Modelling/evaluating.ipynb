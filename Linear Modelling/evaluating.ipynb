{
 "cells": [
  {
   "cell_type": "code",
   "execution_count": 1,
   "metadata": {},
   "outputs": [],
   "source": [
    "# import basic modules\n",
    "import numpy as np\n",
    "import pandas as pd\n",
    "import matplotlib as mpl\n",
    "import matplotlib.pyplot as plt\n",
    "import datetime\n",
    "from nltk.corpus import stopwords\n",
    "import pickle\n",
    "import dill\n",
    "\n",
    "# import specialised modules\n",
    "from sklearn import metrics\n",
    "from sklearn.linear_model import LinearRegression\n",
    "\n",
    "# import training functions\n",
    "from ipynb.fs.defs.training import create_x\n",
    "from ipynb.fs.defs.training import create_x2\n",
    "from ipynb.fs.defs.training import create_x3"
   ]
  },
  {
   "cell_type": "code",
   "execution_count": 2,
   "metadata": {},
   "outputs": [],
   "source": [
    "# get data\n",
    "with open(\"../data/testing_data\", \"rb\") as fb:\n",
    "    testing_data = pickle.load(fb)"
   ]
  },
  {
   "cell_type": "code",
   "execution_count": 3,
   "metadata": {},
   "outputs": [],
   "source": [
    "# get models\n",
    "with open(\"models\", \"rb\") as fb:\n",
    "    models = dill.load(fb)"
   ]
  },
  {
   "cell_type": "code",
   "execution_count": 4,
   "metadata": {},
   "outputs": [],
   "source": [
    "with open(\"../data/good_words_text\", \"rb\") as fb:\n",
    "    words_text = dill.load(fb)\n",
    "\n",
    "with open(\"../data/good_words_title\", \"rb\") as fb:\n",
    "    words_title = dill.load(fb)"
   ]
  },
  {
   "cell_type": "code",
   "execution_count": 5,
   "metadata": {},
   "outputs": [],
   "source": [
    "def get_predictions(model, inputs):\n",
    "    output = []\n",
    "    for i in inputs:\n",
    "        output.append(model.predict([i]))\n",
    "    return output"
   ]
  },
  {
   "cell_type": "code",
   "execution_count": 9,
   "metadata": {},
   "outputs": [],
   "source": [
    "def evaluate_model(model, x_fun, inputs, words, labels):\n",
    "    predictions = [1 if x >= 20 else 0 for x in get_predictions(model, x_fun(inputs, words))]\n",
    "    output_metrics = []\n",
    "    output_metrics.append(metrics.mean_absolute_error(labels, predictions))\n",
    "    output_metrics.append(metrics.mean_squared_error(labels, predictions))\n",
    "    output_metrics.append(metrics.accuracy_score(labels, predictions))\n",
    "    return (predictions, output_metrics)"
   ]
  },
  {
   "cell_type": "code",
   "execution_count": 7,
   "metadata": {},
   "outputs": [],
   "source": [
    "actual_y = list(testing_data.loc[testing_data.type == \"story\"].score)\n",
    "actual_y = [1 if x >= 20 else 0 for x in actual_y]"
   ]
  },
  {
   "cell_type": "code",
   "execution_count": 10,
   "metadata": {},
   "outputs": [
    {
     "name": "stdout",
     "output_type": "stream",
     "text": [
      "[0.08384966366225362, 0.08384966366225362, 0.9161503363377463]\n",
      "[0.08384966366225362, 0.08384966366225362, 0.9161503363377463]\n",
      "[0.08384966366225362, 0.08384966366225362, 0.9161503363377463]\n"
     ]
    }
   ],
   "source": [
    "out1 = evaluate_model(models[0], create_x, testing_data.loc[testing_data.type == \"story\"], words_text, actual_y)\n",
    "out2 = evaluate_model(models[1], create_x2, testing_data.loc[testing_data.type == \"story\"], words_text, actual_y)\n",
    "out3 = evaluate_model(models[2], create_x3, testing_data.loc[testing_data.type == \"story\"], words_title, actual_y)\n",
    "print(out1[1])\n",
    "print(out2[1])\n",
    "print(out3[1])"
   ]
  }
 ],
 "metadata": {
  "kernelspec": {
   "display_name": "Python 3.8.10 64-bit",
   "language": "python",
   "name": "python3"
  },
  "language_info": {
   "codemirror_mode": {
    "name": "ipython",
    "version": 3
   },
   "file_extension": ".py",
   "mimetype": "text/x-python",
   "name": "python",
   "nbconvert_exporter": "python",
   "pygments_lexer": "ipython3",
   "version": "3.8.10 (default, Nov 26 2021, 20:14:08) \n[GCC 9.3.0]"
  },
  "orig_nbformat": 4,
  "vscode": {
   "interpreter": {
    "hash": "916dbcbb3f70747c44a77c7bcd40155683ae19c65e1c03b4aa3499c5328201f1"
   }
  }
 },
 "nbformat": 4,
 "nbformat_minor": 2
}
