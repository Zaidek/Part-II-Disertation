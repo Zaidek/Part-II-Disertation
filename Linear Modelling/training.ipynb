{
 "cells": [
  {
   "cell_type": "code",
   "execution_count": 3,
   "metadata": {},
   "outputs": [],
   "source": [
    "# import basic modules\n",
    "import numpy as np\n",
    "import pandas as pd\n",
    "import matplotlib as mpl\n",
    "import matplotlib.pyplot as plt\n",
    "import datetime\n",
    "from nltk.corpus import stopwords\n",
    "import pickle\n",
    "import dill \n",
    "\n",
    "# import specialised modules\n",
    "from sklearn.linear_model import LinearRegression"
   ]
  },
  {
   "cell_type": "code",
   "execution_count": 4,
   "metadata": {},
   "outputs": [],
   "source": [
    "# Get data\n",
    "with open(\"../data/good_words_text\", \"rb\") as fb:\n",
    "    good_words_text = pickle.load(fb)\n",
    "\n",
    "with open(\"../data/good_words_title\", \"rb\") as fb:\n",
    "    good_words_title = pickle.load(fb)\n",
    "\n",
    "with open(\"../data/training_data\", \"rb\") as fb:\n",
    "    training_data = pickle.load(fb)"
   ]
  },
  {
   "cell_type": "code",
   "execution_count": 5,
   "metadata": {},
   "outputs": [],
   "source": [
    "# Functions for feature vectors\n",
    "\n",
    "def less_than_date(input):\n",
    "    x = input.dates < datetime.datetime(2013, 1, 1)\n",
    "    return [int(k) for k in x]\n",
    "\n",
    "def data_as_var(input):\n",
    "    return [x if x >= 0 else 0 for x in input.time]\n",
    "\n",
    "def has_url(input):\n",
    "    x = input.url.isna()\n",
    "    return [int(k) for k in x]\n",
    "\n",
    "def has_title(input):\n",
    "    x = input.title.isna()\n",
    "    return [int(k) for k in x]\n",
    "\n",
    "def has_text(input):\n",
    "    x = input.text.isna()\n",
    "    return [int(k) for k in x]\n",
    "\n",
    "def contains_word_text(input, word):\n",
    "    out = []\n",
    "    for(index, row) in input.iterrows():\n",
    "        if isinstance(row.text, str):\n",
    "            out.append(int(word in row.text.split(\" \")))\n",
    "            continue\n",
    "        out.append(0)\n",
    "    return out\n",
    "\n",
    "def contains_word_title(input, word):\n",
    "    out = []\n",
    "    for(index, row) in input.iterrows():\n",
    "        if isinstance(row.text, str):\n",
    "            out.append(int(word in row.title.split(\" \")))\n",
    "            continue\n",
    "        out.append(0)\n",
    "    return out"
   ]
  },
  {
   "cell_type": "code",
   "execution_count": 6,
   "metadata": {},
   "outputs": [],
   "source": [
    "def create_x(input, good_words):\n",
    "    t = less_than_date(input)\n",
    "    contains_url = has_url(input)\n",
    "    contains_title = has_title(input)\n",
    "    contains_words = [contains_word_text(input, word) for word in good_words[:50]] \n",
    "\n",
    "    final = []\n",
    "    for i in range(0, len(t)):\n",
    "        temp = []\n",
    "        temp.append(1)\n",
    "        temp.append(t[i])\n",
    "        temp.append(1 - t[i])\n",
    "        temp.append(contains_url[i])\n",
    "        temp.append(contains_title[i])\n",
    "        for l in contains_words:\n",
    "            temp.append(l[i])\n",
    "        final.append(temp)\n",
    "    return final\n",
    "\n",
    "def create_x2(input, good_words):\n",
    "    t = less_than_date(input)\n",
    "    contains_url = has_url(input)\n",
    "    contains_title = has_title(input)\n",
    "    contains_text = has_text(input)\n",
    "    contains_words = [contains_word_title(input, word) for word in good_words[:10]] \n",
    "\n",
    "    final = []\n",
    "    for i in range(0, len(t)):\n",
    "        temp = []\n",
    "        temp.append(1)\n",
    "        temp.append(t[i])\n",
    "        temp.append(contains_url[i])\n",
    "        temp.append(contains_title[i])\n",
    "        temp.append(contains_text[i])\n",
    "        for l in contains_words:\n",
    "            temp.append(l[i])\n",
    "        final.append(temp)\n",
    "    return final\n",
    "\n",
    "def create_x3(input, good_words):\n",
    "    t = data_as_var(input)\n",
    "    contains_url = has_url(input)\n",
    "    contains_title = has_title(input)\n",
    "    contains_text = has_text(input)\n",
    "    contains_words = [contains_word_title(input, word) for word in good_words[:10]] \n",
    "\n",
    "    final = []\n",
    "    for i in range(0, len(t)):\n",
    "        temp = []\n",
    "        temp.append(1)\n",
    "        temp.append(t[i])\n",
    "        temp.append(contains_url[i])\n",
    "        temp.append(contains_title[i])\n",
    "        temp.append(contains_text[i])\n",
    "        for l in contains_words:\n",
    "            temp.append(l[i])\n",
    "        final.append(temp)\n",
    "    return final"
   ]
  },
  {
   "cell_type": "code",
   "execution_count": 7,
   "metadata": {},
   "outputs": [],
   "source": [
    "def train_model(input, x_fun, word_list):\n",
    "    model = LinearRegression()\n",
    "    y_output = list(input.score)\n",
    "    y_output = [x if x >= 0 else 0 for x in y_output]\n",
    "    model.fit(x_fun(input, word_list), y_output)\n",
    "    return model"
   ]
  },
  {
   "cell_type": "code",
   "execution_count": 8,
   "metadata": {},
   "outputs": [
    {
     "ename": "KeyboardInterrupt",
     "evalue": "",
     "output_type": "error",
     "traceback": [
      "\u001b[1;31m---------------------------------------------------------------------------\u001b[0m",
      "\u001b[1;31mKeyboardInterrupt\u001b[0m                         Traceback (most recent call last)",
      "\u001b[1;32mUbuntu\\home\\zaidek\\Part-II-Disertation\\Linear Modelling\\training.ipynb Cell 6\u001b[0m in \u001b[0;36m<module>\u001b[1;34m\u001b[0m\n\u001b[1;32m----> <a href='vscode-notebook-cell://wsl%24/Ubuntu/home/zaidek/Part-II-Disertation/Linear%20Modelling/training.ipynb#W5sZmlsZQ%3D%3D?line=0'>1</a>\u001b[0m model1 \u001b[39m=\u001b[39m train_model(training_data\u001b[39m.\u001b[39;49mloc[training_data\u001b[39m.\u001b[39;49mtype \u001b[39m==\u001b[39;49m \u001b[39m\"\u001b[39;49m\u001b[39mstory\u001b[39;49m\u001b[39m\"\u001b[39;49m], create_x, good_words_text)\n",
      "\u001b[1;32mUbuntu\\home\\zaidek\\Part-II-Disertation\\Linear Modelling\\training.ipynb Cell 6\u001b[0m in \u001b[0;36mtrain_model\u001b[1;34m(input, x_fun, word_list)\u001b[0m\n\u001b[0;32m      <a href='vscode-notebook-cell://wsl%24/Ubuntu/home/zaidek/Part-II-Disertation/Linear%20Modelling/training.ipynb#W5sZmlsZQ%3D%3D?line=2'>3</a>\u001b[0m y_output \u001b[39m=\u001b[39m \u001b[39mlist\u001b[39m(\u001b[39minput\u001b[39m\u001b[39m.\u001b[39mscore)\n\u001b[0;32m      <a href='vscode-notebook-cell://wsl%24/Ubuntu/home/zaidek/Part-II-Disertation/Linear%20Modelling/training.ipynb#W5sZmlsZQ%3D%3D?line=3'>4</a>\u001b[0m y_output \u001b[39m=\u001b[39m [x \u001b[39mif\u001b[39;00m x \u001b[39m>\u001b[39m\u001b[39m=\u001b[39m \u001b[39m0\u001b[39m \u001b[39melse\u001b[39;00m \u001b[39m0\u001b[39m \u001b[39mfor\u001b[39;00m x \u001b[39min\u001b[39;00m y_output]\n\u001b[1;32m----> <a href='vscode-notebook-cell://wsl%24/Ubuntu/home/zaidek/Part-II-Disertation/Linear%20Modelling/training.ipynb#W5sZmlsZQ%3D%3D?line=4'>5</a>\u001b[0m model\u001b[39m.\u001b[39mfit(x_fun(\u001b[39minput\u001b[39;49m, word_list), y_output)\n\u001b[0;32m      <a href='vscode-notebook-cell://wsl%24/Ubuntu/home/zaidek/Part-II-Disertation/Linear%20Modelling/training.ipynb#W5sZmlsZQ%3D%3D?line=5'>6</a>\u001b[0m \u001b[39mreturn\u001b[39;00m model\n",
      "\u001b[1;32mUbuntu\\home\\zaidek\\Part-II-Disertation\\Linear Modelling\\training.ipynb Cell 6\u001b[0m in \u001b[0;36mcreate_x\u001b[1;34m(input, good_words)\u001b[0m\n\u001b[0;32m      <a href='vscode-notebook-cell://wsl%24/Ubuntu/home/zaidek/Part-II-Disertation/Linear%20Modelling/training.ipynb#W5sZmlsZQ%3D%3D?line=2'>3</a>\u001b[0m contains_url \u001b[39m=\u001b[39m has_url(\u001b[39minput\u001b[39m)\n\u001b[0;32m      <a href='vscode-notebook-cell://wsl%24/Ubuntu/home/zaidek/Part-II-Disertation/Linear%20Modelling/training.ipynb#W5sZmlsZQ%3D%3D?line=3'>4</a>\u001b[0m contains_title \u001b[39m=\u001b[39m has_title(\u001b[39minput\u001b[39m)\n\u001b[1;32m----> <a href='vscode-notebook-cell://wsl%24/Ubuntu/home/zaidek/Part-II-Disertation/Linear%20Modelling/training.ipynb#W5sZmlsZQ%3D%3D?line=4'>5</a>\u001b[0m contains_words \u001b[39m=\u001b[39m [contains_word_text(\u001b[39minput\u001b[39m, word) \u001b[39mfor\u001b[39;00m word \u001b[39min\u001b[39;00m good_words[:\u001b[39m50\u001b[39m]] \n\u001b[0;32m      <a href='vscode-notebook-cell://wsl%24/Ubuntu/home/zaidek/Part-II-Disertation/Linear%20Modelling/training.ipynb#W5sZmlsZQ%3D%3D?line=6'>7</a>\u001b[0m final \u001b[39m=\u001b[39m []\n\u001b[0;32m      <a href='vscode-notebook-cell://wsl%24/Ubuntu/home/zaidek/Part-II-Disertation/Linear%20Modelling/training.ipynb#W5sZmlsZQ%3D%3D?line=7'>8</a>\u001b[0m \u001b[39mfor\u001b[39;00m i \u001b[39min\u001b[39;00m \u001b[39mrange\u001b[39m(\u001b[39m0\u001b[39m, \u001b[39mlen\u001b[39m(t)):\n",
      "\u001b[1;32mUbuntu\\home\\zaidek\\Part-II-Disertation\\Linear Modelling\\training.ipynb Cell 6\u001b[0m in \u001b[0;36m<listcomp>\u001b[1;34m(.0)\u001b[0m\n\u001b[0;32m      <a href='vscode-notebook-cell://wsl%24/Ubuntu/home/zaidek/Part-II-Disertation/Linear%20Modelling/training.ipynb#W5sZmlsZQ%3D%3D?line=2'>3</a>\u001b[0m contains_url \u001b[39m=\u001b[39m has_url(\u001b[39minput\u001b[39m)\n\u001b[0;32m      <a href='vscode-notebook-cell://wsl%24/Ubuntu/home/zaidek/Part-II-Disertation/Linear%20Modelling/training.ipynb#W5sZmlsZQ%3D%3D?line=3'>4</a>\u001b[0m contains_title \u001b[39m=\u001b[39m has_title(\u001b[39minput\u001b[39m)\n\u001b[1;32m----> <a href='vscode-notebook-cell://wsl%24/Ubuntu/home/zaidek/Part-II-Disertation/Linear%20Modelling/training.ipynb#W5sZmlsZQ%3D%3D?line=4'>5</a>\u001b[0m contains_words \u001b[39m=\u001b[39m [contains_word_text(\u001b[39minput\u001b[39;49m, word) \u001b[39mfor\u001b[39;00m word \u001b[39min\u001b[39;00m good_words[:\u001b[39m50\u001b[39m]] \n\u001b[0;32m      <a href='vscode-notebook-cell://wsl%24/Ubuntu/home/zaidek/Part-II-Disertation/Linear%20Modelling/training.ipynb#W5sZmlsZQ%3D%3D?line=6'>7</a>\u001b[0m final \u001b[39m=\u001b[39m []\n\u001b[0;32m      <a href='vscode-notebook-cell://wsl%24/Ubuntu/home/zaidek/Part-II-Disertation/Linear%20Modelling/training.ipynb#W5sZmlsZQ%3D%3D?line=7'>8</a>\u001b[0m \u001b[39mfor\u001b[39;00m i \u001b[39min\u001b[39;00m \u001b[39mrange\u001b[39m(\u001b[39m0\u001b[39m, \u001b[39mlen\u001b[39m(t)):\n",
      "\u001b[1;32mUbuntu\\home\\zaidek\\Part-II-Disertation\\Linear Modelling\\training.ipynb Cell 6\u001b[0m in \u001b[0;36mcontains_word_text\u001b[1;34m(input, word)\u001b[0m\n\u001b[0;32m     <a href='vscode-notebook-cell://wsl%24/Ubuntu/home/zaidek/Part-II-Disertation/Linear%20Modelling/training.ipynb#W5sZmlsZQ%3D%3D?line=21'>22</a>\u001b[0m \u001b[39mdef\u001b[39;00m \u001b[39mcontains_word_text\u001b[39m(\u001b[39minput\u001b[39m, word):\n\u001b[0;32m     <a href='vscode-notebook-cell://wsl%24/Ubuntu/home/zaidek/Part-II-Disertation/Linear%20Modelling/training.ipynb#W5sZmlsZQ%3D%3D?line=22'>23</a>\u001b[0m     out \u001b[39m=\u001b[39m []\n\u001b[1;32m---> <a href='vscode-notebook-cell://wsl%24/Ubuntu/home/zaidek/Part-II-Disertation/Linear%20Modelling/training.ipynb#W5sZmlsZQ%3D%3D?line=23'>24</a>\u001b[0m     \u001b[39mfor\u001b[39;00m(index, row) \u001b[39min\u001b[39;00m \u001b[39minput\u001b[39m\u001b[39m.\u001b[39miterrows():\n\u001b[0;32m     <a href='vscode-notebook-cell://wsl%24/Ubuntu/home/zaidek/Part-II-Disertation/Linear%20Modelling/training.ipynb#W5sZmlsZQ%3D%3D?line=24'>25</a>\u001b[0m         \u001b[39mif\u001b[39;00m \u001b[39misinstance\u001b[39m(row\u001b[39m.\u001b[39mtext, \u001b[39mstr\u001b[39m):\n\u001b[0;32m     <a href='vscode-notebook-cell://wsl%24/Ubuntu/home/zaidek/Part-II-Disertation/Linear%20Modelling/training.ipynb#W5sZmlsZQ%3D%3D?line=25'>26</a>\u001b[0m             out\u001b[39m.\u001b[39mappend(\u001b[39mint\u001b[39m(word \u001b[39min\u001b[39;00m row\u001b[39m.\u001b[39mtext\u001b[39m.\u001b[39msplit(\u001b[39m\"\u001b[39m\u001b[39m \u001b[39m\u001b[39m\"\u001b[39m)))\n",
      "File \u001b[1;32mc:\\Users\\Ethan\\AppData\\Local\\Programs\\Python\\Python39\\lib\\site-packages\\pandas\\core\\frame.py:1071\u001b[0m, in \u001b[0;36mDataFrame.iterrows\u001b[1;34m(self)\u001b[0m\n\u001b[0;32m   1069\u001b[0m klass \u001b[39m=\u001b[39m \u001b[39mself\u001b[39m\u001b[39m.\u001b[39m_constructor_sliced\n\u001b[0;32m   1070\u001b[0m \u001b[39mfor\u001b[39;00m k, v \u001b[39min\u001b[39;00m \u001b[39mzip\u001b[39m(\u001b[39mself\u001b[39m\u001b[39m.\u001b[39mindex, \u001b[39mself\u001b[39m\u001b[39m.\u001b[39mvalues):\n\u001b[1;32m-> 1071\u001b[0m     s \u001b[39m=\u001b[39m klass(v, index\u001b[39m=\u001b[39;49mcolumns, name\u001b[39m=\u001b[39;49mk)\n\u001b[0;32m   1072\u001b[0m     \u001b[39myield\u001b[39;00m k, s\n",
      "File \u001b[1;32mc:\\Users\\Ethan\\AppData\\Local\\Programs\\Python\\Python39\\lib\\site-packages\\pandas\\core\\series.py:364\u001b[0m, in \u001b[0;36mSeries.__init__\u001b[1;34m(self, data, index, dtype, name, copy, fastpath)\u001b[0m\n\u001b[0;32m    362\u001b[0m             data \u001b[39m=\u001b[39m data\u001b[39m.\u001b[39mcopy()\n\u001b[0;32m    363\u001b[0m     \u001b[39melse\u001b[39;00m:\n\u001b[1;32m--> 364\u001b[0m         data \u001b[39m=\u001b[39m sanitize_array(data, index, dtype, copy, raise_cast_failure\u001b[39m=\u001b[39;49m\u001b[39mTrue\u001b[39;49;00m)\n\u001b[0;32m    366\u001b[0m         data \u001b[39m=\u001b[39m SingleBlockManager\u001b[39m.\u001b[39mfrom_array(data, index)\n\u001b[0;32m    368\u001b[0m generic\u001b[39m.\u001b[39mNDFrame\u001b[39m.\u001b[39m\u001b[39m__init__\u001b[39m(\u001b[39mself\u001b[39m, data)\n",
      "File \u001b[1;32mc:\\Users\\Ethan\\AppData\\Local\\Programs\\Python\\Python39\\lib\\site-packages\\pandas\\core\\construction.py:461\u001b[0m, in \u001b[0;36msanitize_array\u001b[1;34m(data, index, dtype, copy, raise_cast_failure)\u001b[0m\n\u001b[0;32m    458\u001b[0m                 subarr \u001b[39m=\u001b[39m np\u001b[39m.\u001b[39marray(data, copy\u001b[39m=\u001b[39m\u001b[39mFalse\u001b[39;00m)\n\u001b[0;32m    459\u001b[0m     \u001b[39melse\u001b[39;00m:\n\u001b[0;32m    460\u001b[0m         \u001b[39m# we will try to copy be-definition here\u001b[39;00m\n\u001b[1;32m--> 461\u001b[0m         subarr \u001b[39m=\u001b[39m _try_cast(data, dtype, copy, raise_cast_failure)\n\u001b[0;32m    463\u001b[0m \u001b[39melif\u001b[39;00m \u001b[39misinstance\u001b[39m(data, ABCExtensionArray):\n\u001b[0;32m    464\u001b[0m     \u001b[39m# it is already ensured above this is not a PandasArray\u001b[39;00m\n\u001b[0;32m    465\u001b[0m     subarr \u001b[39m=\u001b[39m data\n",
      "File \u001b[1;32mc:\\Users\\Ethan\\AppData\\Local\\Programs\\Python\\Python39\\lib\\site-packages\\pandas\\core\\construction.py:594\u001b[0m, in \u001b[0;36m_try_cast\u001b[1;34m(arr, dtype, copy, raise_cast_failure)\u001b[0m\n\u001b[0;32m    590\u001b[0m     subarr \u001b[39m=\u001b[39m maybe_cast_to_datetime(arr, dtype)\n\u001b[0;32m    592\u001b[0m \u001b[39m# Take care in creating object arrays (but iterators are not\u001b[39;00m\n\u001b[0;32m    593\u001b[0m \u001b[39m# supported):\u001b[39;00m\n\u001b[1;32m--> 594\u001b[0m \u001b[39mif\u001b[39;00m is_object_dtype(dtype) \u001b[39mand\u001b[39;00m (\n\u001b[0;32m    595\u001b[0m     is_list_like(subarr)\n\u001b[0;32m    596\u001b[0m     \u001b[39mand\u001b[39;00m \u001b[39mnot\u001b[39;00m (is_iterator(subarr) \u001b[39mor\u001b[39;00m \u001b[39misinstance\u001b[39m(subarr, np\u001b[39m.\u001b[39mndarray))\n\u001b[0;32m    597\u001b[0m ):\n\u001b[0;32m    598\u001b[0m     subarr \u001b[39m=\u001b[39m construct_1d_object_array_from_listlike(subarr)\n\u001b[0;32m    599\u001b[0m \u001b[39melif\u001b[39;00m \u001b[39mnot\u001b[39;00m is_extension_array_dtype(subarr):\n",
      "File \u001b[1;32mc:\\Users\\Ethan\\AppData\\Local\\Programs\\Python\\Python39\\lib\\site-packages\\pandas\\core\\dtypes\\common.py:228\u001b[0m, in \u001b[0;36mis_object_dtype\u001b[1;34m(arr_or_dtype)\u001b[0m\n\u001b[0;32m    201\u001b[0m \u001b[39mdef\u001b[39;00m \u001b[39mis_object_dtype\u001b[39m(arr_or_dtype) \u001b[39m-\u001b[39m\u001b[39m>\u001b[39m \u001b[39mbool\u001b[39m:\n\u001b[0;32m    202\u001b[0m     \u001b[39m\"\"\"\u001b[39;00m\n\u001b[0;32m    203\u001b[0m \u001b[39m    Check whether an array-like or dtype is of the object dtype.\u001b[39;00m\n\u001b[0;32m    204\u001b[0m \n\u001b[1;32m   (...)\u001b[0m\n\u001b[0;32m    226\u001b[0m \u001b[39m    False\u001b[39;00m\n\u001b[0;32m    227\u001b[0m \u001b[39m    \"\"\"\u001b[39;00m\n\u001b[1;32m--> 228\u001b[0m     \u001b[39mreturn\u001b[39;00m _is_dtype_type(arr_or_dtype, classes(np\u001b[39m.\u001b[39;49mobject_))\n",
      "File \u001b[1;32mc:\\Users\\Ethan\\AppData\\Local\\Programs\\Python\\Python39\\lib\\site-packages\\pandas\\core\\dtypes\\common.py:187\u001b[0m, in \u001b[0;36mclasses\u001b[1;34m(*klasses)\u001b[0m\n\u001b[0;32m    185\u001b[0m \u001b[39mdef\u001b[39;00m \u001b[39mclasses\u001b[39m(\u001b[39m*\u001b[39mklasses) \u001b[39m-\u001b[39m\u001b[39m>\u001b[39m Callable:\n\u001b[0;32m    186\u001b[0m     \u001b[39m\"\"\" evaluate if the tipo is a subclass of the klasses \"\"\"\u001b[39;00m\n\u001b[1;32m--> 187\u001b[0m     \u001b[39mreturn\u001b[39;00m \u001b[39mlambda\u001b[39;00m tipo: \u001b[39missubclass\u001b[39m(tipo, klasses)\n",
      "\u001b[1;31mKeyboardInterrupt\u001b[0m: "
     ]
    }
   ],
   "source": [
    "model1 = train_model(training_data.loc[training_data.type == \"story\"], create_x, good_words_text)"
   ]
  },
  {
   "cell_type": "code",
   "execution_count": null,
   "metadata": {},
   "outputs": [],
   "source": [
    "model2 = train_model(training_data.loc[training_data.type == \"story\"], create_x2, good_words_text)"
   ]
  },
  {
   "cell_type": "code",
   "execution_count": null,
   "metadata": {},
   "outputs": [],
   "source": [
    "model3 = train_model(training_data.loc[training_data.type == \"story\"], create_x3, good_words_title)"
   ]
  },
  {
   "cell_type": "code",
   "execution_count": 11,
   "metadata": {},
   "outputs": [],
   "source": [
    "models = []\n",
    "models.append(model1)\n",
    "models.append(model2)\n",
    "models.append(model3)"
   ]
  },
  {
   "cell_type": "code",
   "execution_count": 12,
   "metadata": {},
   "outputs": [],
   "source": [
    "functions = []\n",
    "functions.append(create_x)\n",
    "functions.append(create_x2)\n",
    "functions.append(create_x3)"
   ]
  },
  {
   "cell_type": "code",
   "execution_count": 13,
   "metadata": {},
   "outputs": [],
   "source": [
    "with open(\"functions\", \"wb\") as fb:\n",
    "    dill.dump(functions, fb)"
   ]
  },
  {
   "cell_type": "code",
   "execution_count": 14,
   "metadata": {},
   "outputs": [],
   "source": [
    "with open(\"models\", \"wb\") as fb:\n",
    "    pickle.dump(models, fb)"
   ]
  }
 ],
 "metadata": {
  "kernelspec": {
   "display_name": "Python 3",
   "language": "python",
   "name": "python3"
  },
  "language_info": {
   "codemirror_mode": {
    "name": "ipython",
    "version": 3
   },
   "file_extension": ".py",
   "mimetype": "text/x-python",
   "name": "python",
   "nbconvert_exporter": "python",
   "pygments_lexer": "ipython3",
   "version": "3.9.6"
  },
  "orig_nbformat": 4,
  "vscode": {
   "interpreter": {
    "hash": "b8cd98ac651c668ce2c6203d75b23f2d5bc0a45f06efaf825f1ea3a340dc3a78"
   }
  }
 },
 "nbformat": 4,
 "nbformat_minor": 2
}
