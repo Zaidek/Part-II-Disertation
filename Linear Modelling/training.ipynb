{
 "cells": [
  {
   "cell_type": "code",
   "execution_count": null,
   "metadata": {},
   "outputs": [],
   "source": [
    "# import basic modules\n",
    "import numpy as np\n",
    "import pandas as pd\n",
    "import matplotlib as mpl\n",
    "import matplotlib.pyplot as plt\n",
    "import datetime\n",
    "from nltk.corpus import stopwords\n",
    "\n",
    "# import specialised modules\n",
    "from sklearn import metrics\n",
    "from sklearn.linear_model import LinearRegression"
   ]
  },
  {
   "cell_type": "code",
   "execution_count": null,
   "metadata": {},
   "outputs": [],
   "source": [
    "# Get data"
   ]
  },
  {
   "cell_type": "code",
   "execution_count": null,
   "metadata": {},
   "outputs": [],
   "source": [
    "# Functions for feature vectors\n",
    "\n",
    "def less_than_date(input):\n",
    "    x = input.dates < datetime.datetime(2013, 1, 1)\n",
    "    return [int(k) for k in x]\n",
    "\n",
    "def has_url(input):\n",
    "    x = input.url.isna()\n",
    "    return [int(k) for k in x]\n",
    "\n",
    "def has_title(input):\n",
    "    x = input.title.isna()\n",
    "    return [int(k) for k in x]\n",
    "\n",
    "def contains_word_text(input, word):\n",
    "    out = []\n",
    "    for(index, row) in input.iterrows():\n",
    "        if isinstance(row.text, str):\n",
    "            out.append(int(word in row.text.split(\" \")))\n",
    "            continue\n",
    "        out.append(0)\n",
    "    return out\n",
    "\n",
    "def contains_word_title(input, word):\n",
    "    out = []\n",
    "    for(index, row) in input.iterrows():\n",
    "        if isinstance(row.text, str):\n",
    "            out.append(int(word in row.title.split(\" \")))\n",
    "            continue\n",
    "        out.append(0)\n",
    "    return out"
   ]
  },
  {
   "cell_type": "code",
   "execution_count": null,
   "metadata": {},
   "outputs": [],
   "source": [
    "def create_x(input):\n",
    "    t = less_than_date(input)\n",
    "    has_u = has_url(input)\n",
    "    has_t = has_title(input)\n",
    "    has_w = [contains_word_text(input, word) for word in most_common_in_text_good[:50]] \n",
    "\n",
    "    final = []\n",
    "    for i in range(0, len(t)):\n",
    "        temp = []\n",
    "        temp.append(1)\n",
    "        temp.append(t[i])\n",
    "        temp.append(1 - t[i])\n",
    "        temp.append(has_u[i])\n",
    "        temp.append(has_t[i])\n",
    "        for l in has_w:\n",
    "            temp.append(l[i])\n",
    "        final.append(temp)\n",
    "    return final\n",
    "\n",
    "def create_x2(input):\n",
    "    t = less_than_date(input)\n",
    "    has_u = has_url(input)\n",
    "    has_t = has_title(input)\n",
    "    has_w = [contains_word_title(input, word) for word in most_common_in_title_good[:10]] \n",
    "\n",
    "    final = []\n",
    "    for i in range(0, len(t)):\n",
    "        temp = []\n",
    "        temp.append(1)\n",
    "        temp.append(t[i])\n",
    "        temp.append(has_u[i])\n",
    "        temp.append(has_t[i])\n",
    "        for l in has_w:\n",
    "            temp.append(l[i])\n",
    "        final.append(temp)\n",
    "    return final"
   ]
  },
  {
   "cell_type": "code",
   "execution_count": null,
   "metadata": {},
   "outputs": [],
   "source": [
    "def train_model(input):\n",
    "    model = LinearRegression()\n",
    "    y_output = list(input.score)\n",
    "    y_output = [x if x >= 0 else 0 for x in y_output]\n",
    "    model.fit(create_x2(input), y_output)\n",
    "    return model"
   ]
  }
 ],
 "metadata": {
  "kernelspec": {
   "display_name": "Python 3.8.10 64-bit",
   "language": "python",
   "name": "python3"
  },
  "language_info": {
   "name": "python",
   "version": "3.8.10"
  },
  "orig_nbformat": 4,
  "vscode": {
   "interpreter": {
    "hash": "916dbcbb3f70747c44a77c7bcd40155683ae19c65e1c03b4aa3499c5328201f1"
   }
  }
 },
 "nbformat": 4,
 "nbformat_minor": 2
}
