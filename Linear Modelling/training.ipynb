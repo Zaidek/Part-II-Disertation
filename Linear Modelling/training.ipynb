{
 "cells": [
  {
   "cell_type": "code",
   "execution_count": 1,
   "metadata": {},
   "outputs": [],
   "source": [
    "# import basic modules\n",
    "import numpy as np\n",
    "import pandas as pd\n",
    "import matplotlib as mpl\n",
    "import matplotlib.pyplot as plt\n",
    "import datetime\n",
    "from nltk.corpus import stopwords\n",
    "import pickle\n",
    "import dill \n",
    "\n",
    "# import specialised modules\n",
    "from sklearn.linear_model import LinearRegression"
   ]
  },
  {
   "cell_type": "code",
   "execution_count": 2,
   "metadata": {},
   "outputs": [],
   "source": [
    "# Get data\n",
    "with open(\"../data/good_words_text\", \"rb\") as fb:\n",
    "    good_words_text = pickle.load(fb)\n",
    "\n",
    "with open(\"../data/good_words_title\", \"rb\") as fb:\n",
    "    good_words_title = pickle.load(fb)\n",
    "\n",
    "with open(\"../data/training_data\", \"rb\") as fb:\n",
    "    training_data = pickle.load(fb)"
   ]
  },
  {
   "cell_type": "code",
   "execution_count": 3,
   "metadata": {},
   "outputs": [],
   "source": [
    "# Functions for feature vectors\n",
    "\n",
    "def less_than_date(input):\n",
    "    x = input.dates < datetime.datetime(2013, 1, 1)\n",
    "    return [int(k) for k in x]\n",
    "\n",
    "def data_as_var(input):\n",
    "    return [x if x >= 0 else 0 for x in input.time]\n",
    "\n",
    "def has_url(input):\n",
    "    x = input.url.isna()\n",
    "    return [int(k) for k in x]\n",
    "\n",
    "def has_title(input):\n",
    "    x = input.title.isna()\n",
    "    return [int(k) for k in x]\n",
    "\n",
    "def has_text(input):\n",
    "    x = input.text.isna()\n",
    "    return [int(k) for k in x]\n",
    "\n",
    "def contains_word_text(input, word):\n",
    "    out = []\n",
    "    for(index, row) in input.iterrows():\n",
    "        if isinstance(row.text, str):\n",
    "            out.append(int(word in row.text.split(\" \")))\n",
    "            continue\n",
    "        out.append(0)\n",
    "    return out\n",
    "\n",
    "def contains_word_title(input, word):\n",
    "    out = []\n",
    "    for(index, row) in input.iterrows():\n",
    "        if isinstance(row.text, str):\n",
    "            out.append(int(word in row.title.split(\" \")))\n",
    "            continue\n",
    "        out.append(0)\n",
    "    return out"
   ]
  },
  {
   "cell_type": "code",
   "execution_count": 4,
   "metadata": {},
   "outputs": [],
   "source": [
    "def create_x(input, good_words):\n",
    "    t = less_than_date(input)\n",
    "    contains_url = has_url(input)\n",
    "    contains_title = has_title(input)\n",
    "    contains_words = [contains_word_text(input, word) for word in good_words[:50]] \n",
    "\n",
    "    final = []\n",
    "    for i in range(0, len(t)):\n",
    "        temp = []\n",
    "        temp.append(1)\n",
    "        temp.append(t[i])\n",
    "        temp.append(1 - t[i])\n",
    "        temp.append(contains_url[i])\n",
    "        temp.append(contains_title[i])\n",
    "        for l in contains_words:\n",
    "            temp.append(l[i])\n",
    "        final.append(temp)\n",
    "    return final\n",
    "\n",
    "def create_x2(input, good_words):\n",
    "    t = less_than_date(input)\n",
    "    contains_url = has_url(input)\n",
    "    contains_title = has_title(input)\n",
    "    contains_text = has_text(input)\n",
    "    contains_words = [contains_word_title(input, word) for word in good_words[:10]] \n",
    "\n",
    "    final = []\n",
    "    for i in range(0, len(t)):\n",
    "        temp = []\n",
    "        temp.append(1)\n",
    "        temp.append(t[i])\n",
    "        temp.append(contains_url[i])\n",
    "        temp.append(contains_title[i])\n",
    "        temp.append(contains_text[i])\n",
    "        for l in contains_words:\n",
    "            temp.append(l[i])\n",
    "        final.append(temp)\n",
    "    return final\n",
    "\n",
    "def create_x3(input, good_words):\n",
    "    t = data_as_var(input)\n",
    "    contains_url = has_url(input)\n",
    "    contains_title = has_title(input)\n",
    "    contains_text = has_text(input)\n",
    "    contains_words = [contains_word_title(input, word) for word in good_words[:10]] \n",
    "\n",
    "    final = []\n",
    "    for i in range(0, len(t)):\n",
    "        temp = []\n",
    "        temp.append(1)\n",
    "        temp.append(t[i])\n",
    "        temp.append(contains_url[i])\n",
    "        temp.append(contains_title[i])\n",
    "        temp.append(contains_text[i])\n",
    "        for l in contains_words:\n",
    "            temp.append(l[i])\n",
    "        final.append(temp)\n",
    "    return final"
   ]
  },
  {
   "cell_type": "code",
   "execution_count": 7,
   "metadata": {},
   "outputs": [],
   "source": [
    "def train_model(input, x_fun, word_list):\n",
    "    model = LinearRegression()\n",
    "    y_output = list(input.score)\n",
    "    y_output = [x if x >= 0 else 0 for x in y_output]\n",
    "    model.fit(x_fun(input, word_list), y_output)\n",
    "    return model"
   ]
  },
  {
   "cell_type": "code",
   "execution_count": 8,
   "metadata": {},
   "outputs": [],
   "source": [
    "model1 = train_model(training_data.loc[training_data.type == \"story\"], create_x, good_words_text)"
   ]
  },
  {
   "cell_type": "code",
   "execution_count": 9,
   "metadata": {},
   "outputs": [],
   "source": [
    "model2 = train_model(training_data.loc[training_data.type == \"story\"], create_x2, good_words_text)"
   ]
  },
  {
   "cell_type": "code",
   "execution_count": 10,
   "metadata": {},
   "outputs": [],
   "source": [
    "model3 = train_model(training_data.loc[training_data.type == \"story\"], create_x3, good_words_title)"
   ]
  },
  {
   "cell_type": "code",
   "execution_count": 11,
   "metadata": {},
   "outputs": [],
   "source": [
    "models = []\n",
    "models.append(model1)\n",
    "models.append(model2)\n",
    "models.append(model3)"
   ]
  },
  {
   "cell_type": "code",
   "execution_count": 12,
   "metadata": {},
   "outputs": [],
   "source": [
    "functions = []\n",
    "functions.append(create_x)\n",
    "functions.append(create_x2)\n",
    "functions.append(create_x3)"
   ]
  },
  {
   "cell_type": "code",
   "execution_count": 13,
   "metadata": {},
   "outputs": [],
   "source": [
    "with open(\"functions\", \"wb\") as fb:\n",
    "    dill.dump(functions, fb)"
   ]
  },
  {
   "cell_type": "code",
   "execution_count": 14,
   "metadata": {},
   "outputs": [],
   "source": [
    "with open(\"models\", \"wb\") as fb:\n",
    "    pickle.dump(models, fb)"
   ]
  }
 ],
 "metadata": {
  "kernelspec": {
   "display_name": "Python 3.8.10 64-bit",
   "language": "python",
   "name": "python3"
  },
  "language_info": {
   "codemirror_mode": {
    "name": "ipython",
    "version": 3
   },
   "file_extension": ".py",
   "mimetype": "text/x-python",
   "name": "python",
   "nbconvert_exporter": "python",
   "pygments_lexer": "ipython3",
   "version": "3.8.10 (default, Nov 26 2021, 20:14:08) \n[GCC 9.3.0]"
  },
  "orig_nbformat": 4,
  "vscode": {
   "interpreter": {
    "hash": "916dbcbb3f70747c44a77c7bcd40155683ae19c65e1c03b4aa3499c5328201f1"
   }
  }
 },
 "nbformat": 4,
 "nbformat_minor": 2
}
